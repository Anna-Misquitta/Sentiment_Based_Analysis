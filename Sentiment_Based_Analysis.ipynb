{
  "nbformat": 4,
  "nbformat_minor": 0,
  "metadata": {
    "colab": {
      "provenance": [],
      "collapsed_sections": [],
      "mount_file_id": "1kVSvi14DkyojrAJQjUbM_G6VLJX9CiYP",
      "authorship_tag": "ABX9TyMULDCYzwOcbZLvnA7wYF4R",
      "include_colab_link": true
    },
    "kernelspec": {
      "name": "python3",
      "display_name": "Python 3"
    },
    "language_info": {
      "name": "python"
    }
  },
  "cells": [
    {
      "cell_type": "markdown",
      "metadata": {
        "id": "view-in-github",
        "colab_type": "text"
      },
      "source": [
        "<a href=\"https://colab.research.google.com/github/Anna-Misquitta/Sentiment_Based_Analysis/blob/main/Sentiment_Based_Analysis.ipynb\" target=\"_parent\"><img src=\"https://colab.research.google.com/assets/colab-badge.svg\" alt=\"Open In Colab\"/></a>"
      ]
    },
    {
      "cell_type": "code",
      "execution_count": 182,
      "metadata": {
        "colab": {
          "base_uri": "https://localhost:8080/"
        },
        "id": "kgqmdU-ppupB",
        "outputId": "6b981fa3-4909-40da-8c90-635abaab04a8"
      },
      "outputs": [
        {
          "output_type": "stream",
          "name": "stderr",
          "text": [
            "[nltk_data] Downloading package stopwords to /root/nltk_data...\n",
            "[nltk_data]   Package stopwords is already up-to-date!\n",
            "[nltk_data] Downloading package punkt to /root/nltk_data...\n",
            "[nltk_data]   Package punkt is already up-to-date!\n",
            "[nltk_data] Downloading package averaged_perceptron_tagger to\n",
            "[nltk_data]     /root/nltk_data...\n",
            "[nltk_data]   Package averaged_perceptron_tagger is already up-to-\n",
            "[nltk_data]       date!\n",
            "[nltk_data] Downloading package wordnet to /root/nltk_data...\n",
            "[nltk_data]   Package wordnet is already up-to-date!\n",
            "[nltk_data] Downloading package omw-1.4 to /root/nltk_data...\n",
            "[nltk_data]   Package omw-1.4 is already up-to-date!\n"
          ]
        }
      ],
      "source": [
        "# Importing all the required libraries\n",
        "\n",
        "import matplotlib.pyplot as plt\n",
        "import xgboost as xgb\n",
        "import seaborn as sns\n",
        "import pandas as pd\n",
        "import collections\n",
        "import numpy as np\n",
        "import string\n",
        "import pickle\n",
        "import nltk\n",
        "import time\n",
        "import re\n",
        "\n",
        "from sklearn.metrics import confusion_matrix, classification_report, roc_auc_score\n",
        "from sklearn.metrics.pairwise import pairwise_distances, cosine_similarity\n",
        "from sklearn.model_selection import GridSearchCV, RandomizedSearchCV\n",
        "from sklearn.feature_extraction.text import TfidfVectorizer\n",
        "from sklearn.model_selection  import train_test_split\n",
        "from sklearn.linear_model import LogisticRegression\n",
        "from sklearn.ensemble import RandomForestClassifier\n",
        "from nltk.stem.wordnet import WordNetLemmatizer\n",
        "from sklearn.tree import DecisionTreeClassifier\n",
        "from sklearn.preprocessing import MinMaxScaler\n",
        "from sklearn.naive_bayes import MultinomialNB\n",
        "from sklearn.metrics import accuracy_score\n",
        "from imblearn.over_sampling import SMOTE\n",
        "from nltk.tokenize import word_tokenize\n",
        "from nltk.corpus import stopwords\n",
        "from collections import Counter\n",
        "from nltk.corpus import wordnet\n",
        "from wordcloud import WordCloud\n",
        "from sklearn import metrics\n",
        "from numpy import *\n",
        "\n",
        "# Downloading all the required modules\n",
        "nltk.download('stopwords')\n",
        "nltk.download('punkt')\n",
        "nltk.download('averaged_perceptron_tagger')\n",
        "nltk.download('wordnet')\n",
        "nltk.download('omw-1.4')\n",
        "\n",
        "# Customising max no. of columns and its width respectively\n",
        "pd.set_option('display.max_columns', 300)\n",
        "pd.set_option('display.max_colwidth', 500)"
      ]
    },
    {
      "cell_type": "code",
      "source": [
        "# Importing data into our dataframe\n",
        "\n",
        "data = pd.read_csv(\"/content/drive/MyDrive/capstone_data/sample30.csv\")\n",
        "data.head()"
      ],
      "metadata": {
        "colab": {
          "base_uri": "https://localhost:8080/",
          "height": 1000
        },
        "id": "8L5FedvPrpNK",
        "outputId": "07ac547e-8fc2-4c82-dd17-4e63598539be"
      },
      "execution_count": 183,
      "outputs": [
        {
          "output_type": "execute_result",
          "data": {
            "text/plain": [
              "                     id            brand  \\\n",
              "0  AV13O1A8GV-KLJ3akUyj  Universal Music   \n",
              "1  AV14LG0R-jtxr-f38QfS         Lundberg   \n",
              "2  AV14LG0R-jtxr-f38QfS         Lundberg   \n",
              "3  AV16khLE-jtxr-f38VFn              K-Y   \n",
              "4  AV16khLE-jtxr-f38VFn              K-Y   \n",
              "\n",
              "                                                                                                                                                       categories  \\\n",
              "0  Movies, Music & Books,Music,R&b,Movies & TV,Movie Bundles & Collections,CDs & Vinyl,Rap & Hip-Hop,Bass,Music on CD or Vinyl,Rap,Hip-Hop,Mainstream Rap,Pop Rap   \n",
              "1                                                                                    Food,Packaged Foods,Snacks,Crackers,Snacks, Cookies & Chips,Rice Cakes,Cakes   \n",
              "2                                                                                    Food,Packaged Foods,Snacks,Crackers,Snacks, Cookies & Chips,Rice Cakes,Cakes   \n",
              "3                                                                           Personal Care,Medicine Cabinet,Lubricant/Spermicide,Health,Sexual Wellness,Lubricants   \n",
              "4                                                                           Personal Care,Medicine Cabinet,Lubricant/Spermicide,Health,Sexual Wellness,Lubricants   \n",
              "\n",
              "                         manufacturer  \\\n",
              "0  Universal Music Group / Cash Money   \n",
              "1                            Lundberg   \n",
              "2                            Lundberg   \n",
              "3                                 K-Y   \n",
              "4                                 K-Y   \n",
              "\n",
              "                                         name              reviews_date  \\\n",
              "0   Pink Friday: Roman Reloaded Re-Up (w/dvd)  2012-11-30T06:21:45.000Z   \n",
              "1  Lundberg Organic Cinnamon Toast Rice Cakes  2017-07-09T00:00:00.000Z   \n",
              "2  Lundberg Organic Cinnamon Toast Rice Cakes  2017-07-09T00:00:00.000Z   \n",
              "3            K-Y Love Sensuality Pleasure Gel  2016-01-06T00:00:00.000Z   \n",
              "4            K-Y Love Sensuality Pleasure Gel  2016-12-21T00:00:00.000Z   \n",
              "\n",
              "  reviews_didPurchase reviews_doRecommend  reviews_rating  \\\n",
              "0                 NaN                 NaN               5   \n",
              "1                True                 NaN               5   \n",
              "2                True                 NaN               5   \n",
              "3               False               False               1   \n",
              "4               False               False               1   \n",
              "\n",
              "                                                                                                                                                                                                                                                                                                                                                                                                                                                                                                          reviews_text  \\\n",
              "0                                                                                                                                                                                                                                                                                                            i love this album. it's very good. more to the hip hop side than her current pop sound.. SO HYPE! i listen to this everyday at the gym! i give it 5star rating all the way. her metaphors are just crazy.   \n",
              "1                                                                                                                                                                                                                                                                                                                                                                                                                                                       Good flavor. This review was collected as part of a promotion.   \n",
              "2                                                                                                                                                                                                                                                                                                                                                                                                                                                                                                         Good flavor.   \n",
              "3  I read through the reviews on here before looking in to buying one of the couples lubricants, and was ultimately disappointed that it didn't even live up to the reviews I had read. For starters, neither my boyfriend nor I could notice any sort of enhanced or 'captivating' sensation. What we did notice, however, was the messy consistency that was reminiscent of a more liquid-y vaseline. It was difficult to clean up, and was not a pleasant, especially since it lacked the 'captivating' sensatio...   \n",
              "4                                                                                                                                                                                                                                                                                                                                                                                 My husband bought this gel for us. The gel caused irritation and it felt like it was burning my skin. I wouldn't recommend this gel.   \n",
              "\n",
              "  reviews_title reviews_userCity reviews_userProvince reviews_username  \\\n",
              "0  Just Awesome      Los Angeles                  NaN           joshua   \n",
              "1          Good              NaN                  NaN        dorothy w   \n",
              "2          Good              NaN                  NaN        dorothy w   \n",
              "3  Disappointed              NaN                  NaN          rebecca   \n",
              "4    Irritation              NaN                  NaN        walker557   \n",
              "\n",
              "  user_sentiment  \n",
              "0       Positive  \n",
              "1       Positive  \n",
              "2       Positive  \n",
              "3       Negative  \n",
              "4       Negative  "
            ],
            "text/html": [
              "\n",
              "  <div id=\"df-389c628c-2d4a-40fb-b808-d6c1dcb572f5\">\n",
              "    <div class=\"colab-df-container\">\n",
              "      <div>\n",
              "<style scoped>\n",
              "    .dataframe tbody tr th:only-of-type {\n",
              "        vertical-align: middle;\n",
              "    }\n",
              "\n",
              "    .dataframe tbody tr th {\n",
              "        vertical-align: top;\n",
              "    }\n",
              "\n",
              "    .dataframe thead th {\n",
              "        text-align: right;\n",
              "    }\n",
              "</style>\n",
              "<table border=\"1\" class=\"dataframe\">\n",
              "  <thead>\n",
              "    <tr style=\"text-align: right;\">\n",
              "      <th></th>\n",
              "      <th>id</th>\n",
              "      <th>brand</th>\n",
              "      <th>categories</th>\n",
              "      <th>manufacturer</th>\n",
              "      <th>name</th>\n",
              "      <th>reviews_date</th>\n",
              "      <th>reviews_didPurchase</th>\n",
              "      <th>reviews_doRecommend</th>\n",
              "      <th>reviews_rating</th>\n",
              "      <th>reviews_text</th>\n",
              "      <th>reviews_title</th>\n",
              "      <th>reviews_userCity</th>\n",
              "      <th>reviews_userProvince</th>\n",
              "      <th>reviews_username</th>\n",
              "      <th>user_sentiment</th>\n",
              "    </tr>\n",
              "  </thead>\n",
              "  <tbody>\n",
              "    <tr>\n",
              "      <th>0</th>\n",
              "      <td>AV13O1A8GV-KLJ3akUyj</td>\n",
              "      <td>Universal Music</td>\n",
              "      <td>Movies, Music &amp; Books,Music,R&amp;b,Movies &amp; TV,Movie Bundles &amp; Collections,CDs &amp; Vinyl,Rap &amp; Hip-Hop,Bass,Music on CD or Vinyl,Rap,Hip-Hop,Mainstream Rap,Pop Rap</td>\n",
              "      <td>Universal Music Group / Cash Money</td>\n",
              "      <td>Pink Friday: Roman Reloaded Re-Up (w/dvd)</td>\n",
              "      <td>2012-11-30T06:21:45.000Z</td>\n",
              "      <td>NaN</td>\n",
              "      <td>NaN</td>\n",
              "      <td>5</td>\n",
              "      <td>i love this album. it's very good. more to the hip hop side than her current pop sound.. SO HYPE! i listen to this everyday at the gym! i give it 5star rating all the way. her metaphors are just crazy.</td>\n",
              "      <td>Just Awesome</td>\n",
              "      <td>Los Angeles</td>\n",
              "      <td>NaN</td>\n",
              "      <td>joshua</td>\n",
              "      <td>Positive</td>\n",
              "    </tr>\n",
              "    <tr>\n",
              "      <th>1</th>\n",
              "      <td>AV14LG0R-jtxr-f38QfS</td>\n",
              "      <td>Lundberg</td>\n",
              "      <td>Food,Packaged Foods,Snacks,Crackers,Snacks, Cookies &amp; Chips,Rice Cakes,Cakes</td>\n",
              "      <td>Lundberg</td>\n",
              "      <td>Lundberg Organic Cinnamon Toast Rice Cakes</td>\n",
              "      <td>2017-07-09T00:00:00.000Z</td>\n",
              "      <td>True</td>\n",
              "      <td>NaN</td>\n",
              "      <td>5</td>\n",
              "      <td>Good flavor. This review was collected as part of a promotion.</td>\n",
              "      <td>Good</td>\n",
              "      <td>NaN</td>\n",
              "      <td>NaN</td>\n",
              "      <td>dorothy w</td>\n",
              "      <td>Positive</td>\n",
              "    </tr>\n",
              "    <tr>\n",
              "      <th>2</th>\n",
              "      <td>AV14LG0R-jtxr-f38QfS</td>\n",
              "      <td>Lundberg</td>\n",
              "      <td>Food,Packaged Foods,Snacks,Crackers,Snacks, Cookies &amp; Chips,Rice Cakes,Cakes</td>\n",
              "      <td>Lundberg</td>\n",
              "      <td>Lundberg Organic Cinnamon Toast Rice Cakes</td>\n",
              "      <td>2017-07-09T00:00:00.000Z</td>\n",
              "      <td>True</td>\n",
              "      <td>NaN</td>\n",
              "      <td>5</td>\n",
              "      <td>Good flavor.</td>\n",
              "      <td>Good</td>\n",
              "      <td>NaN</td>\n",
              "      <td>NaN</td>\n",
              "      <td>dorothy w</td>\n",
              "      <td>Positive</td>\n",
              "    </tr>\n",
              "    <tr>\n",
              "      <th>3</th>\n",
              "      <td>AV16khLE-jtxr-f38VFn</td>\n",
              "      <td>K-Y</td>\n",
              "      <td>Personal Care,Medicine Cabinet,Lubricant/Spermicide,Health,Sexual Wellness,Lubricants</td>\n",
              "      <td>K-Y</td>\n",
              "      <td>K-Y Love Sensuality Pleasure Gel</td>\n",
              "      <td>2016-01-06T00:00:00.000Z</td>\n",
              "      <td>False</td>\n",
              "      <td>False</td>\n",
              "      <td>1</td>\n",
              "      <td>I read through the reviews on here before looking in to buying one of the couples lubricants, and was ultimately disappointed that it didn't even live up to the reviews I had read. For starters, neither my boyfriend nor I could notice any sort of enhanced or 'captivating' sensation. What we did notice, however, was the messy consistency that was reminiscent of a more liquid-y vaseline. It was difficult to clean up, and was not a pleasant, especially since it lacked the 'captivating' sensatio...</td>\n",
              "      <td>Disappointed</td>\n",
              "      <td>NaN</td>\n",
              "      <td>NaN</td>\n",
              "      <td>rebecca</td>\n",
              "      <td>Negative</td>\n",
              "    </tr>\n",
              "    <tr>\n",
              "      <th>4</th>\n",
              "      <td>AV16khLE-jtxr-f38VFn</td>\n",
              "      <td>K-Y</td>\n",
              "      <td>Personal Care,Medicine Cabinet,Lubricant/Spermicide,Health,Sexual Wellness,Lubricants</td>\n",
              "      <td>K-Y</td>\n",
              "      <td>K-Y Love Sensuality Pleasure Gel</td>\n",
              "      <td>2016-12-21T00:00:00.000Z</td>\n",
              "      <td>False</td>\n",
              "      <td>False</td>\n",
              "      <td>1</td>\n",
              "      <td>My husband bought this gel for us. The gel caused irritation and it felt like it was burning my skin. I wouldn't recommend this gel.</td>\n",
              "      <td>Irritation</td>\n",
              "      <td>NaN</td>\n",
              "      <td>NaN</td>\n",
              "      <td>walker557</td>\n",
              "      <td>Negative</td>\n",
              "    </tr>\n",
              "  </tbody>\n",
              "</table>\n",
              "</div>\n",
              "      <button class=\"colab-df-convert\" onclick=\"convertToInteractive('df-389c628c-2d4a-40fb-b808-d6c1dcb572f5')\"\n",
              "              title=\"Convert this dataframe to an interactive table.\"\n",
              "              style=\"display:none;\">\n",
              "        \n",
              "  <svg xmlns=\"http://www.w3.org/2000/svg\" height=\"24px\"viewBox=\"0 0 24 24\"\n",
              "       width=\"24px\">\n",
              "    <path d=\"M0 0h24v24H0V0z\" fill=\"none\"/>\n",
              "    <path d=\"M18.56 5.44l.94 2.06.94-2.06 2.06-.94-2.06-.94-.94-2.06-.94 2.06-2.06.94zm-11 1L8.5 8.5l.94-2.06 2.06-.94-2.06-.94L8.5 2.5l-.94 2.06-2.06.94zm10 10l.94 2.06.94-2.06 2.06-.94-2.06-.94-.94-2.06-.94 2.06-2.06.94z\"/><path d=\"M17.41 7.96l-1.37-1.37c-.4-.4-.92-.59-1.43-.59-.52 0-1.04.2-1.43.59L10.3 9.45l-7.72 7.72c-.78.78-.78 2.05 0 2.83L4 21.41c.39.39.9.59 1.41.59.51 0 1.02-.2 1.41-.59l7.78-7.78 2.81-2.81c.8-.78.8-2.07 0-2.86zM5.41 20L4 18.59l7.72-7.72 1.47 1.35L5.41 20z\"/>\n",
              "  </svg>\n",
              "      </button>\n",
              "      \n",
              "  <style>\n",
              "    .colab-df-container {\n",
              "      display:flex;\n",
              "      flex-wrap:wrap;\n",
              "      gap: 12px;\n",
              "    }\n",
              "\n",
              "    .colab-df-convert {\n",
              "      background-color: #E8F0FE;\n",
              "      border: none;\n",
              "      border-radius: 50%;\n",
              "      cursor: pointer;\n",
              "      display: none;\n",
              "      fill: #1967D2;\n",
              "      height: 32px;\n",
              "      padding: 0 0 0 0;\n",
              "      width: 32px;\n",
              "    }\n",
              "\n",
              "    .colab-df-convert:hover {\n",
              "      background-color: #E2EBFA;\n",
              "      box-shadow: 0px 1px 2px rgba(60, 64, 67, 0.3), 0px 1px 3px 1px rgba(60, 64, 67, 0.15);\n",
              "      fill: #174EA6;\n",
              "    }\n",
              "\n",
              "    [theme=dark] .colab-df-convert {\n",
              "      background-color: #3B4455;\n",
              "      fill: #D2E3FC;\n",
              "    }\n",
              "\n",
              "    [theme=dark] .colab-df-convert:hover {\n",
              "      background-color: #434B5C;\n",
              "      box-shadow: 0px 1px 3px 1px rgba(0, 0, 0, 0.15);\n",
              "      filter: drop-shadow(0px 1px 2px rgba(0, 0, 0, 0.3));\n",
              "      fill: #FFFFFF;\n",
              "    }\n",
              "  </style>\n",
              "\n",
              "      <script>\n",
              "        const buttonEl =\n",
              "          document.querySelector('#df-389c628c-2d4a-40fb-b808-d6c1dcb572f5 button.colab-df-convert');\n",
              "        buttonEl.style.display =\n",
              "          google.colab.kernel.accessAllowed ? 'block' : 'none';\n",
              "\n",
              "        async function convertToInteractive(key) {\n",
              "          const element = document.querySelector('#df-389c628c-2d4a-40fb-b808-d6c1dcb572f5');\n",
              "          const dataTable =\n",
              "            await google.colab.kernel.invokeFunction('convertToInteractive',\n",
              "                                                     [key], {});\n",
              "          if (!dataTable) return;\n",
              "\n",
              "          const docLinkHtml = 'Like what you see? Visit the ' +\n",
              "            '<a target=\"_blank\" href=https://colab.research.google.com/notebooks/data_table.ipynb>data table notebook</a>'\n",
              "            + ' to learn more about interactive tables.';\n",
              "          element.innerHTML = '';\n",
              "          dataTable['output_type'] = 'display_data';\n",
              "          await google.colab.output.renderOutput(dataTable, element);\n",
              "          const docLink = document.createElement('div');\n",
              "          docLink.innerHTML = docLinkHtml;\n",
              "          element.appendChild(docLink);\n",
              "        }\n",
              "      </script>\n",
              "    </div>\n",
              "  </div>\n",
              "  "
            ]
          },
          "metadata": {},
          "execution_count": 183
        }
      ]
    },
    {
      "cell_type": "code",
      "source": [
        "# Check the attributes, null values of the data\n",
        "data.info()"
      ],
      "metadata": {
        "colab": {
          "base_uri": "https://localhost:8080/"
        },
        "id": "oka5XkEuvg6Z",
        "outputId": "2dddd8e7-1865-4878-e233-67d9325d09af"
      },
      "execution_count": 184,
      "outputs": [
        {
          "output_type": "stream",
          "name": "stdout",
          "text": [
            "<class 'pandas.core.frame.DataFrame'>\n",
            "RangeIndex: 30000 entries, 0 to 29999\n",
            "Data columns (total 15 columns):\n",
            " #   Column                Non-Null Count  Dtype \n",
            "---  ------                --------------  ----- \n",
            " 0   id                    30000 non-null  object\n",
            " 1   brand                 30000 non-null  object\n",
            " 2   categories            30000 non-null  object\n",
            " 3   manufacturer          29859 non-null  object\n",
            " 4   name                  30000 non-null  object\n",
            " 5   reviews_date          29954 non-null  object\n",
            " 6   reviews_didPurchase   15932 non-null  object\n",
            " 7   reviews_doRecommend   27430 non-null  object\n",
            " 8   reviews_rating        30000 non-null  int64 \n",
            " 9   reviews_text          30000 non-null  object\n",
            " 10  reviews_title         29810 non-null  object\n",
            " 11  reviews_userCity      1929 non-null   object\n",
            " 12  reviews_userProvince  170 non-null    object\n",
            " 13  reviews_username      29937 non-null  object\n",
            " 14  user_sentiment        29999 non-null  object\n",
            "dtypes: int64(1), object(14)\n",
            "memory usage: 3.4+ MB\n"
          ]
        }
      ]
    },
    {
      "cell_type": "code",
      "source": [
        "# Check missing values\n",
        "data.isnull().sum()"
      ],
      "metadata": {
        "colab": {
          "base_uri": "https://localhost:8080/"
        },
        "id": "zMlKF1Yz6CS5",
        "outputId": "465fabef-0da5-4c43-e720-a04b80f59e63"
      },
      "execution_count": 185,
      "outputs": [
        {
          "output_type": "execute_result",
          "data": {
            "text/plain": [
              "id                          0\n",
              "brand                       0\n",
              "categories                  0\n",
              "manufacturer              141\n",
              "name                        0\n",
              "reviews_date               46\n",
              "reviews_didPurchase     14068\n",
              "reviews_doRecommend      2570\n",
              "reviews_rating              0\n",
              "reviews_text                0\n",
              "reviews_title             190\n",
              "reviews_userCity        28071\n",
              "reviews_userProvince    29830\n",
              "reviews_username           63\n",
              "user_sentiment              1\n",
              "dtype: int64"
            ]
          },
          "metadata": {},
          "execution_count": 185
        }
      ]
    },
    {
      "cell_type": "code",
      "source": [
        "# print the row that has missing value in user_sentiment column\n",
        "data[data.user_sentiment.isnull()]"
      ],
      "metadata": {
        "colab": {
          "base_uri": "https://localhost:8080/",
          "height": 666
        },
        "id": "6hqOXmM46Noa",
        "outputId": "760b0557-ac9f-49a3-db33-dda843d5ef5e"
      },
      "execution_count": 186,
      "outputs": [
        {
          "output_type": "execute_result",
          "data": {
            "text/plain": [
              "                         id   brand  \\\n",
              "28354  AVpfRTh1ilAPnD_xYic2  Disney   \n",
              "\n",
              "                                                                                                                                                                                                                                            categories  \\\n",
              "28354  Movies, Music & Books,Movies,Kids' & Family,Ways To Shop Entertainment,Movies & Tv On Blu-Ray,Movies & TV,Disney,Blu-ray,Children & Family,Movies & Music,Movies & TV Shows,Electronics, Tech Toys, Movies, Music,Blu-Rays,See ALL Blu-Ray,Frys   \n",
              "\n",
              "      manufacturer  \\\n",
              "28354  Walt Disney   \n",
              "\n",
              "                                                                      name  \\\n",
              "28354  Planes: Fire Rescue (2 Discs) (includes Digital Copy) (blu-Ray/dvd)   \n",
              "\n",
              "                   reviews_date reviews_didPurchase reviews_doRecommend  \\\n",
              "28354  2014-11-07T00:00:00.000Z                 NaN                True   \n",
              "\n",
              "       reviews_rating  \\\n",
              "28354               5   \n",
              "\n",
              "                                                                                                                                                                                                                                                                                                                                                                            reviews_text  \\\n",
              "28354  my kids absolutely loved this film so much that we watched it twice. Having a digital copy means that every time we get in the car we get to watch it wherever we go. we even got to use our $5 reward coupon towards the purchase of this movie so we got an additional $5 off + we got to add the points towards our next rewards coupon we love the savings we get at Best Buy   \n",
              "\n",
              "                                         reviews_title reviews_userCity  \\\n",
              "28354  a super hit with my children. they loved it!!??              NaN   \n",
              "\n",
              "      reviews_userProvince reviews_username user_sentiment  \n",
              "28354                mamad         7.87E+11            NaN  "
            ],
            "text/html": [
              "\n",
              "  <div id=\"df-424fb480-f317-4013-ba7b-957cfd131076\">\n",
              "    <div class=\"colab-df-container\">\n",
              "      <div>\n",
              "<style scoped>\n",
              "    .dataframe tbody tr th:only-of-type {\n",
              "        vertical-align: middle;\n",
              "    }\n",
              "\n",
              "    .dataframe tbody tr th {\n",
              "        vertical-align: top;\n",
              "    }\n",
              "\n",
              "    .dataframe thead th {\n",
              "        text-align: right;\n",
              "    }\n",
              "</style>\n",
              "<table border=\"1\" class=\"dataframe\">\n",
              "  <thead>\n",
              "    <tr style=\"text-align: right;\">\n",
              "      <th></th>\n",
              "      <th>id</th>\n",
              "      <th>brand</th>\n",
              "      <th>categories</th>\n",
              "      <th>manufacturer</th>\n",
              "      <th>name</th>\n",
              "      <th>reviews_date</th>\n",
              "      <th>reviews_didPurchase</th>\n",
              "      <th>reviews_doRecommend</th>\n",
              "      <th>reviews_rating</th>\n",
              "      <th>reviews_text</th>\n",
              "      <th>reviews_title</th>\n",
              "      <th>reviews_userCity</th>\n",
              "      <th>reviews_userProvince</th>\n",
              "      <th>reviews_username</th>\n",
              "      <th>user_sentiment</th>\n",
              "    </tr>\n",
              "  </thead>\n",
              "  <tbody>\n",
              "    <tr>\n",
              "      <th>28354</th>\n",
              "      <td>AVpfRTh1ilAPnD_xYic2</td>\n",
              "      <td>Disney</td>\n",
              "      <td>Movies, Music &amp; Books,Movies,Kids' &amp; Family,Ways To Shop Entertainment,Movies &amp; Tv On Blu-Ray,Movies &amp; TV,Disney,Blu-ray,Children &amp; Family,Movies &amp; Music,Movies &amp; TV Shows,Electronics, Tech Toys, Movies, Music,Blu-Rays,See ALL Blu-Ray,Frys</td>\n",
              "      <td>Walt Disney</td>\n",
              "      <td>Planes: Fire Rescue (2 Discs) (includes Digital Copy) (blu-Ray/dvd)</td>\n",
              "      <td>2014-11-07T00:00:00.000Z</td>\n",
              "      <td>NaN</td>\n",
              "      <td>True</td>\n",
              "      <td>5</td>\n",
              "      <td>my kids absolutely loved this film so much that we watched it twice. Having a digital copy means that every time we get in the car we get to watch it wherever we go. we even got to use our $5 reward coupon towards the purchase of this movie so we got an additional $5 off + we got to add the points towards our next rewards coupon we love the savings we get at Best Buy</td>\n",
              "      <td>a super hit with my children. they loved it!!??</td>\n",
              "      <td>NaN</td>\n",
              "      <td>mamad</td>\n",
              "      <td>7.87E+11</td>\n",
              "      <td>NaN</td>\n",
              "    </tr>\n",
              "  </tbody>\n",
              "</table>\n",
              "</div>\n",
              "      <button class=\"colab-df-convert\" onclick=\"convertToInteractive('df-424fb480-f317-4013-ba7b-957cfd131076')\"\n",
              "              title=\"Convert this dataframe to an interactive table.\"\n",
              "              style=\"display:none;\">\n",
              "        \n",
              "  <svg xmlns=\"http://www.w3.org/2000/svg\" height=\"24px\"viewBox=\"0 0 24 24\"\n",
              "       width=\"24px\">\n",
              "    <path d=\"M0 0h24v24H0V0z\" fill=\"none\"/>\n",
              "    <path d=\"M18.56 5.44l.94 2.06.94-2.06 2.06-.94-2.06-.94-.94-2.06-.94 2.06-2.06.94zm-11 1L8.5 8.5l.94-2.06 2.06-.94-2.06-.94L8.5 2.5l-.94 2.06-2.06.94zm10 10l.94 2.06.94-2.06 2.06-.94-2.06-.94-.94-2.06-.94 2.06-2.06.94z\"/><path d=\"M17.41 7.96l-1.37-1.37c-.4-.4-.92-.59-1.43-.59-.52 0-1.04.2-1.43.59L10.3 9.45l-7.72 7.72c-.78.78-.78 2.05 0 2.83L4 21.41c.39.39.9.59 1.41.59.51 0 1.02-.2 1.41-.59l7.78-7.78 2.81-2.81c.8-.78.8-2.07 0-2.86zM5.41 20L4 18.59l7.72-7.72 1.47 1.35L5.41 20z\"/>\n",
              "  </svg>\n",
              "      </button>\n",
              "      \n",
              "  <style>\n",
              "    .colab-df-container {\n",
              "      display:flex;\n",
              "      flex-wrap:wrap;\n",
              "      gap: 12px;\n",
              "    }\n",
              "\n",
              "    .colab-df-convert {\n",
              "      background-color: #E8F0FE;\n",
              "      border: none;\n",
              "      border-radius: 50%;\n",
              "      cursor: pointer;\n",
              "      display: none;\n",
              "      fill: #1967D2;\n",
              "      height: 32px;\n",
              "      padding: 0 0 0 0;\n",
              "      width: 32px;\n",
              "    }\n",
              "\n",
              "    .colab-df-convert:hover {\n",
              "      background-color: #E2EBFA;\n",
              "      box-shadow: 0px 1px 2px rgba(60, 64, 67, 0.3), 0px 1px 3px 1px rgba(60, 64, 67, 0.15);\n",
              "      fill: #174EA6;\n",
              "    }\n",
              "\n",
              "    [theme=dark] .colab-df-convert {\n",
              "      background-color: #3B4455;\n",
              "      fill: #D2E3FC;\n",
              "    }\n",
              "\n",
              "    [theme=dark] .colab-df-convert:hover {\n",
              "      background-color: #434B5C;\n",
              "      box-shadow: 0px 1px 3px 1px rgba(0, 0, 0, 0.15);\n",
              "      filter: drop-shadow(0px 1px 2px rgba(0, 0, 0, 0.3));\n",
              "      fill: #FFFFFF;\n",
              "    }\n",
              "  </style>\n",
              "\n",
              "      <script>\n",
              "        const buttonEl =\n",
              "          document.querySelector('#df-424fb480-f317-4013-ba7b-957cfd131076 button.colab-df-convert');\n",
              "        buttonEl.style.display =\n",
              "          google.colab.kernel.accessAllowed ? 'block' : 'none';\n",
              "\n",
              "        async function convertToInteractive(key) {\n",
              "          const element = document.querySelector('#df-424fb480-f317-4013-ba7b-957cfd131076');\n",
              "          const dataTable =\n",
              "            await google.colab.kernel.invokeFunction('convertToInteractive',\n",
              "                                                     [key], {});\n",
              "          if (!dataTable) return;\n",
              "\n",
              "          const docLinkHtml = 'Like what you see? Visit the ' +\n",
              "            '<a target=\"_blank\" href=https://colab.research.google.com/notebooks/data_table.ipynb>data table notebook</a>'\n",
              "            + ' to learn more about interactive tables.';\n",
              "          element.innerHTML = '';\n",
              "          dataTable['output_type'] = 'display_data';\n",
              "          await google.colab.output.renderOutput(dataTable, element);\n",
              "          const docLink = document.createElement('div');\n",
              "          docLink.innerHTML = docLinkHtml;\n",
              "          element.appendChild(docLink);\n",
              "        }\n",
              "      </script>\n",
              "    </div>\n",
              "  </div>\n",
              "  "
            ]
          },
          "metadata": {},
          "execution_count": 186
        }
      ]
    },
    {
      "cell_type": "code",
      "source": [
        "# We can observe that user's sentiment is positive based on their comment. Hence we will replace the NaN value with Positive value.\n",
        "data.loc[28354,'user_sentiment'] = 'Positive'"
      ],
      "metadata": {
        "id": "X6NI4KL36WL4"
      },
      "execution_count": 187,
      "outputs": []
    },
    {
      "cell_type": "code",
      "source": [
        "# print the row and check if missing value in user_sentiment column has been replaced with our data \n",
        "data[data.index == 28354]"
      ],
      "metadata": {
        "colab": {
          "base_uri": "https://localhost:8080/",
          "height": 666
        },
        "id": "isoQUopl6u-L",
        "outputId": "181c2047-f83a-468b-d921-d9e1c0c4d9e0"
      },
      "execution_count": 188,
      "outputs": [
        {
          "output_type": "execute_result",
          "data": {
            "text/plain": [
              "                         id   brand  \\\n",
              "28354  AVpfRTh1ilAPnD_xYic2  Disney   \n",
              "\n",
              "                                                                                                                                                                                                                                            categories  \\\n",
              "28354  Movies, Music & Books,Movies,Kids' & Family,Ways To Shop Entertainment,Movies & Tv On Blu-Ray,Movies & TV,Disney,Blu-ray,Children & Family,Movies & Music,Movies & TV Shows,Electronics, Tech Toys, Movies, Music,Blu-Rays,See ALL Blu-Ray,Frys   \n",
              "\n",
              "      manufacturer  \\\n",
              "28354  Walt Disney   \n",
              "\n",
              "                                                                      name  \\\n",
              "28354  Planes: Fire Rescue (2 Discs) (includes Digital Copy) (blu-Ray/dvd)   \n",
              "\n",
              "                   reviews_date reviews_didPurchase reviews_doRecommend  \\\n",
              "28354  2014-11-07T00:00:00.000Z                 NaN                True   \n",
              "\n",
              "       reviews_rating  \\\n",
              "28354               5   \n",
              "\n",
              "                                                                                                                                                                                                                                                                                                                                                                            reviews_text  \\\n",
              "28354  my kids absolutely loved this film so much that we watched it twice. Having a digital copy means that every time we get in the car we get to watch it wherever we go. we even got to use our $5 reward coupon towards the purchase of this movie so we got an additional $5 off + we got to add the points towards our next rewards coupon we love the savings we get at Best Buy   \n",
              "\n",
              "                                         reviews_title reviews_userCity  \\\n",
              "28354  a super hit with my children. they loved it!!??              NaN   \n",
              "\n",
              "      reviews_userProvince reviews_username user_sentiment  \n",
              "28354                mamad         7.87E+11       Positive  "
            ],
            "text/html": [
              "\n",
              "  <div id=\"df-5306cbcc-ff78-4741-a533-820ab38734f2\">\n",
              "    <div class=\"colab-df-container\">\n",
              "      <div>\n",
              "<style scoped>\n",
              "    .dataframe tbody tr th:only-of-type {\n",
              "        vertical-align: middle;\n",
              "    }\n",
              "\n",
              "    .dataframe tbody tr th {\n",
              "        vertical-align: top;\n",
              "    }\n",
              "\n",
              "    .dataframe thead th {\n",
              "        text-align: right;\n",
              "    }\n",
              "</style>\n",
              "<table border=\"1\" class=\"dataframe\">\n",
              "  <thead>\n",
              "    <tr style=\"text-align: right;\">\n",
              "      <th></th>\n",
              "      <th>id</th>\n",
              "      <th>brand</th>\n",
              "      <th>categories</th>\n",
              "      <th>manufacturer</th>\n",
              "      <th>name</th>\n",
              "      <th>reviews_date</th>\n",
              "      <th>reviews_didPurchase</th>\n",
              "      <th>reviews_doRecommend</th>\n",
              "      <th>reviews_rating</th>\n",
              "      <th>reviews_text</th>\n",
              "      <th>reviews_title</th>\n",
              "      <th>reviews_userCity</th>\n",
              "      <th>reviews_userProvince</th>\n",
              "      <th>reviews_username</th>\n",
              "      <th>user_sentiment</th>\n",
              "    </tr>\n",
              "  </thead>\n",
              "  <tbody>\n",
              "    <tr>\n",
              "      <th>28354</th>\n",
              "      <td>AVpfRTh1ilAPnD_xYic2</td>\n",
              "      <td>Disney</td>\n",
              "      <td>Movies, Music &amp; Books,Movies,Kids' &amp; Family,Ways To Shop Entertainment,Movies &amp; Tv On Blu-Ray,Movies &amp; TV,Disney,Blu-ray,Children &amp; Family,Movies &amp; Music,Movies &amp; TV Shows,Electronics, Tech Toys, Movies, Music,Blu-Rays,See ALL Blu-Ray,Frys</td>\n",
              "      <td>Walt Disney</td>\n",
              "      <td>Planes: Fire Rescue (2 Discs) (includes Digital Copy) (blu-Ray/dvd)</td>\n",
              "      <td>2014-11-07T00:00:00.000Z</td>\n",
              "      <td>NaN</td>\n",
              "      <td>True</td>\n",
              "      <td>5</td>\n",
              "      <td>my kids absolutely loved this film so much that we watched it twice. Having a digital copy means that every time we get in the car we get to watch it wherever we go. we even got to use our $5 reward coupon towards the purchase of this movie so we got an additional $5 off + we got to add the points towards our next rewards coupon we love the savings we get at Best Buy</td>\n",
              "      <td>a super hit with my children. they loved it!!??</td>\n",
              "      <td>NaN</td>\n",
              "      <td>mamad</td>\n",
              "      <td>7.87E+11</td>\n",
              "      <td>Positive</td>\n",
              "    </tr>\n",
              "  </tbody>\n",
              "</table>\n",
              "</div>\n",
              "      <button class=\"colab-df-convert\" onclick=\"convertToInteractive('df-5306cbcc-ff78-4741-a533-820ab38734f2')\"\n",
              "              title=\"Convert this dataframe to an interactive table.\"\n",
              "              style=\"display:none;\">\n",
              "        \n",
              "  <svg xmlns=\"http://www.w3.org/2000/svg\" height=\"24px\"viewBox=\"0 0 24 24\"\n",
              "       width=\"24px\">\n",
              "    <path d=\"M0 0h24v24H0V0z\" fill=\"none\"/>\n",
              "    <path d=\"M18.56 5.44l.94 2.06.94-2.06 2.06-.94-2.06-.94-.94-2.06-.94 2.06-2.06.94zm-11 1L8.5 8.5l.94-2.06 2.06-.94-2.06-.94L8.5 2.5l-.94 2.06-2.06.94zm10 10l.94 2.06.94-2.06 2.06-.94-2.06-.94-.94-2.06-.94 2.06-2.06.94z\"/><path d=\"M17.41 7.96l-1.37-1.37c-.4-.4-.92-.59-1.43-.59-.52 0-1.04.2-1.43.59L10.3 9.45l-7.72 7.72c-.78.78-.78 2.05 0 2.83L4 21.41c.39.39.9.59 1.41.59.51 0 1.02-.2 1.41-.59l7.78-7.78 2.81-2.81c.8-.78.8-2.07 0-2.86zM5.41 20L4 18.59l7.72-7.72 1.47 1.35L5.41 20z\"/>\n",
              "  </svg>\n",
              "      </button>\n",
              "      \n",
              "  <style>\n",
              "    .colab-df-container {\n",
              "      display:flex;\n",
              "      flex-wrap:wrap;\n",
              "      gap: 12px;\n",
              "    }\n",
              "\n",
              "    .colab-df-convert {\n",
              "      background-color: #E8F0FE;\n",
              "      border: none;\n",
              "      border-radius: 50%;\n",
              "      cursor: pointer;\n",
              "      display: none;\n",
              "      fill: #1967D2;\n",
              "      height: 32px;\n",
              "      padding: 0 0 0 0;\n",
              "      width: 32px;\n",
              "    }\n",
              "\n",
              "    .colab-df-convert:hover {\n",
              "      background-color: #E2EBFA;\n",
              "      box-shadow: 0px 1px 2px rgba(60, 64, 67, 0.3), 0px 1px 3px 1px rgba(60, 64, 67, 0.15);\n",
              "      fill: #174EA6;\n",
              "    }\n",
              "\n",
              "    [theme=dark] .colab-df-convert {\n",
              "      background-color: #3B4455;\n",
              "      fill: #D2E3FC;\n",
              "    }\n",
              "\n",
              "    [theme=dark] .colab-df-convert:hover {\n",
              "      background-color: #434B5C;\n",
              "      box-shadow: 0px 1px 3px 1px rgba(0, 0, 0, 0.15);\n",
              "      filter: drop-shadow(0px 1px 2px rgba(0, 0, 0, 0.3));\n",
              "      fill: #FFFFFF;\n",
              "    }\n",
              "  </style>\n",
              "\n",
              "      <script>\n",
              "        const buttonEl =\n",
              "          document.querySelector('#df-5306cbcc-ff78-4741-a533-820ab38734f2 button.colab-df-convert');\n",
              "        buttonEl.style.display =\n",
              "          google.colab.kernel.accessAllowed ? 'block' : 'none';\n",
              "\n",
              "        async function convertToInteractive(key) {\n",
              "          const element = document.querySelector('#df-5306cbcc-ff78-4741-a533-820ab38734f2');\n",
              "          const dataTable =\n",
              "            await google.colab.kernel.invokeFunction('convertToInteractive',\n",
              "                                                     [key], {});\n",
              "          if (!dataTable) return;\n",
              "\n",
              "          const docLinkHtml = 'Like what you see? Visit the ' +\n",
              "            '<a target=\"_blank\" href=https://colab.research.google.com/notebooks/data_table.ipynb>data table notebook</a>'\n",
              "            + ' to learn more about interactive tables.';\n",
              "          element.innerHTML = '';\n",
              "          dataTable['output_type'] = 'display_data';\n",
              "          await google.colab.output.renderOutput(dataTable, element);\n",
              "          const docLink = document.createElement('div');\n",
              "          docLink.innerHTML = docLinkHtml;\n",
              "          element.appendChild(docLink);\n",
              "        }\n",
              "      </script>\n",
              "    </div>\n",
              "  </div>\n",
              "  "
            ]
          },
          "metadata": {},
          "execution_count": 188
        }
      ]
    },
    {
      "cell_type": "code",
      "source": [
        "# Replacing positive values with 1 and negatives with 0\n",
        "data['user_sentiment'] = data['user_sentiment'].map({ 'Positive' : 1, 'Negative' :0})\n",
        "data.head()"
      ],
      "metadata": {
        "colab": {
          "base_uri": "https://localhost:8080/",
          "height": 1000
        },
        "id": "Bkd9W2l7667N",
        "outputId": "8fc1fdf7-376d-414c-ca03-244650a72696"
      },
      "execution_count": 189,
      "outputs": [
        {
          "output_type": "execute_result",
          "data": {
            "text/plain": [
              "                     id            brand  \\\n",
              "0  AV13O1A8GV-KLJ3akUyj  Universal Music   \n",
              "1  AV14LG0R-jtxr-f38QfS         Lundberg   \n",
              "2  AV14LG0R-jtxr-f38QfS         Lundberg   \n",
              "3  AV16khLE-jtxr-f38VFn              K-Y   \n",
              "4  AV16khLE-jtxr-f38VFn              K-Y   \n",
              "\n",
              "                                                                                                                                                       categories  \\\n",
              "0  Movies, Music & Books,Music,R&b,Movies & TV,Movie Bundles & Collections,CDs & Vinyl,Rap & Hip-Hop,Bass,Music on CD or Vinyl,Rap,Hip-Hop,Mainstream Rap,Pop Rap   \n",
              "1                                                                                    Food,Packaged Foods,Snacks,Crackers,Snacks, Cookies & Chips,Rice Cakes,Cakes   \n",
              "2                                                                                    Food,Packaged Foods,Snacks,Crackers,Snacks, Cookies & Chips,Rice Cakes,Cakes   \n",
              "3                                                                           Personal Care,Medicine Cabinet,Lubricant/Spermicide,Health,Sexual Wellness,Lubricants   \n",
              "4                                                                           Personal Care,Medicine Cabinet,Lubricant/Spermicide,Health,Sexual Wellness,Lubricants   \n",
              "\n",
              "                         manufacturer  \\\n",
              "0  Universal Music Group / Cash Money   \n",
              "1                            Lundberg   \n",
              "2                            Lundberg   \n",
              "3                                 K-Y   \n",
              "4                                 K-Y   \n",
              "\n",
              "                                         name              reviews_date  \\\n",
              "0   Pink Friday: Roman Reloaded Re-Up (w/dvd)  2012-11-30T06:21:45.000Z   \n",
              "1  Lundberg Organic Cinnamon Toast Rice Cakes  2017-07-09T00:00:00.000Z   \n",
              "2  Lundberg Organic Cinnamon Toast Rice Cakes  2017-07-09T00:00:00.000Z   \n",
              "3            K-Y Love Sensuality Pleasure Gel  2016-01-06T00:00:00.000Z   \n",
              "4            K-Y Love Sensuality Pleasure Gel  2016-12-21T00:00:00.000Z   \n",
              "\n",
              "  reviews_didPurchase reviews_doRecommend  reviews_rating  \\\n",
              "0                 NaN                 NaN               5   \n",
              "1                True                 NaN               5   \n",
              "2                True                 NaN               5   \n",
              "3               False               False               1   \n",
              "4               False               False               1   \n",
              "\n",
              "                                                                                                                                                                                                                                                                                                                                                                                                                                                                                                          reviews_text  \\\n",
              "0                                                                                                                                                                                                                                                                                                            i love this album. it's very good. more to the hip hop side than her current pop sound.. SO HYPE! i listen to this everyday at the gym! i give it 5star rating all the way. her metaphors are just crazy.   \n",
              "1                                                                                                                                                                                                                                                                                                                                                                                                                                                       Good flavor. This review was collected as part of a promotion.   \n",
              "2                                                                                                                                                                                                                                                                                                                                                                                                                                                                                                         Good flavor.   \n",
              "3  I read through the reviews on here before looking in to buying one of the couples lubricants, and was ultimately disappointed that it didn't even live up to the reviews I had read. For starters, neither my boyfriend nor I could notice any sort of enhanced or 'captivating' sensation. What we did notice, however, was the messy consistency that was reminiscent of a more liquid-y vaseline. It was difficult to clean up, and was not a pleasant, especially since it lacked the 'captivating' sensatio...   \n",
              "4                                                                                                                                                                                                                                                                                                                                                                                 My husband bought this gel for us. The gel caused irritation and it felt like it was burning my skin. I wouldn't recommend this gel.   \n",
              "\n",
              "  reviews_title reviews_userCity reviews_userProvince reviews_username  \\\n",
              "0  Just Awesome      Los Angeles                  NaN           joshua   \n",
              "1          Good              NaN                  NaN        dorothy w   \n",
              "2          Good              NaN                  NaN        dorothy w   \n",
              "3  Disappointed              NaN                  NaN          rebecca   \n",
              "4    Irritation              NaN                  NaN        walker557   \n",
              "\n",
              "   user_sentiment  \n",
              "0               1  \n",
              "1               1  \n",
              "2               1  \n",
              "3               0  \n",
              "4               0  "
            ],
            "text/html": [
              "\n",
              "  <div id=\"df-586957c1-841f-4ce0-baa5-2600d6d33771\">\n",
              "    <div class=\"colab-df-container\">\n",
              "      <div>\n",
              "<style scoped>\n",
              "    .dataframe tbody tr th:only-of-type {\n",
              "        vertical-align: middle;\n",
              "    }\n",
              "\n",
              "    .dataframe tbody tr th {\n",
              "        vertical-align: top;\n",
              "    }\n",
              "\n",
              "    .dataframe thead th {\n",
              "        text-align: right;\n",
              "    }\n",
              "</style>\n",
              "<table border=\"1\" class=\"dataframe\">\n",
              "  <thead>\n",
              "    <tr style=\"text-align: right;\">\n",
              "      <th></th>\n",
              "      <th>id</th>\n",
              "      <th>brand</th>\n",
              "      <th>categories</th>\n",
              "      <th>manufacturer</th>\n",
              "      <th>name</th>\n",
              "      <th>reviews_date</th>\n",
              "      <th>reviews_didPurchase</th>\n",
              "      <th>reviews_doRecommend</th>\n",
              "      <th>reviews_rating</th>\n",
              "      <th>reviews_text</th>\n",
              "      <th>reviews_title</th>\n",
              "      <th>reviews_userCity</th>\n",
              "      <th>reviews_userProvince</th>\n",
              "      <th>reviews_username</th>\n",
              "      <th>user_sentiment</th>\n",
              "    </tr>\n",
              "  </thead>\n",
              "  <tbody>\n",
              "    <tr>\n",
              "      <th>0</th>\n",
              "      <td>AV13O1A8GV-KLJ3akUyj</td>\n",
              "      <td>Universal Music</td>\n",
              "      <td>Movies, Music &amp; Books,Music,R&amp;b,Movies &amp; TV,Movie Bundles &amp; Collections,CDs &amp; Vinyl,Rap &amp; Hip-Hop,Bass,Music on CD or Vinyl,Rap,Hip-Hop,Mainstream Rap,Pop Rap</td>\n",
              "      <td>Universal Music Group / Cash Money</td>\n",
              "      <td>Pink Friday: Roman Reloaded Re-Up (w/dvd)</td>\n",
              "      <td>2012-11-30T06:21:45.000Z</td>\n",
              "      <td>NaN</td>\n",
              "      <td>NaN</td>\n",
              "      <td>5</td>\n",
              "      <td>i love this album. it's very good. more to the hip hop side than her current pop sound.. SO HYPE! i listen to this everyday at the gym! i give it 5star rating all the way. her metaphors are just crazy.</td>\n",
              "      <td>Just Awesome</td>\n",
              "      <td>Los Angeles</td>\n",
              "      <td>NaN</td>\n",
              "      <td>joshua</td>\n",
              "      <td>1</td>\n",
              "    </tr>\n",
              "    <tr>\n",
              "      <th>1</th>\n",
              "      <td>AV14LG0R-jtxr-f38QfS</td>\n",
              "      <td>Lundberg</td>\n",
              "      <td>Food,Packaged Foods,Snacks,Crackers,Snacks, Cookies &amp; Chips,Rice Cakes,Cakes</td>\n",
              "      <td>Lundberg</td>\n",
              "      <td>Lundberg Organic Cinnamon Toast Rice Cakes</td>\n",
              "      <td>2017-07-09T00:00:00.000Z</td>\n",
              "      <td>True</td>\n",
              "      <td>NaN</td>\n",
              "      <td>5</td>\n",
              "      <td>Good flavor. This review was collected as part of a promotion.</td>\n",
              "      <td>Good</td>\n",
              "      <td>NaN</td>\n",
              "      <td>NaN</td>\n",
              "      <td>dorothy w</td>\n",
              "      <td>1</td>\n",
              "    </tr>\n",
              "    <tr>\n",
              "      <th>2</th>\n",
              "      <td>AV14LG0R-jtxr-f38QfS</td>\n",
              "      <td>Lundberg</td>\n",
              "      <td>Food,Packaged Foods,Snacks,Crackers,Snacks, Cookies &amp; Chips,Rice Cakes,Cakes</td>\n",
              "      <td>Lundberg</td>\n",
              "      <td>Lundberg Organic Cinnamon Toast Rice Cakes</td>\n",
              "      <td>2017-07-09T00:00:00.000Z</td>\n",
              "      <td>True</td>\n",
              "      <td>NaN</td>\n",
              "      <td>5</td>\n",
              "      <td>Good flavor.</td>\n",
              "      <td>Good</td>\n",
              "      <td>NaN</td>\n",
              "      <td>NaN</td>\n",
              "      <td>dorothy w</td>\n",
              "      <td>1</td>\n",
              "    </tr>\n",
              "    <tr>\n",
              "      <th>3</th>\n",
              "      <td>AV16khLE-jtxr-f38VFn</td>\n",
              "      <td>K-Y</td>\n",
              "      <td>Personal Care,Medicine Cabinet,Lubricant/Spermicide,Health,Sexual Wellness,Lubricants</td>\n",
              "      <td>K-Y</td>\n",
              "      <td>K-Y Love Sensuality Pleasure Gel</td>\n",
              "      <td>2016-01-06T00:00:00.000Z</td>\n",
              "      <td>False</td>\n",
              "      <td>False</td>\n",
              "      <td>1</td>\n",
              "      <td>I read through the reviews on here before looking in to buying one of the couples lubricants, and was ultimately disappointed that it didn't even live up to the reviews I had read. For starters, neither my boyfriend nor I could notice any sort of enhanced or 'captivating' sensation. What we did notice, however, was the messy consistency that was reminiscent of a more liquid-y vaseline. It was difficult to clean up, and was not a pleasant, especially since it lacked the 'captivating' sensatio...</td>\n",
              "      <td>Disappointed</td>\n",
              "      <td>NaN</td>\n",
              "      <td>NaN</td>\n",
              "      <td>rebecca</td>\n",
              "      <td>0</td>\n",
              "    </tr>\n",
              "    <tr>\n",
              "      <th>4</th>\n",
              "      <td>AV16khLE-jtxr-f38VFn</td>\n",
              "      <td>K-Y</td>\n",
              "      <td>Personal Care,Medicine Cabinet,Lubricant/Spermicide,Health,Sexual Wellness,Lubricants</td>\n",
              "      <td>K-Y</td>\n",
              "      <td>K-Y Love Sensuality Pleasure Gel</td>\n",
              "      <td>2016-12-21T00:00:00.000Z</td>\n",
              "      <td>False</td>\n",
              "      <td>False</td>\n",
              "      <td>1</td>\n",
              "      <td>My husband bought this gel for us. The gel caused irritation and it felt like it was burning my skin. I wouldn't recommend this gel.</td>\n",
              "      <td>Irritation</td>\n",
              "      <td>NaN</td>\n",
              "      <td>NaN</td>\n",
              "      <td>walker557</td>\n",
              "      <td>0</td>\n",
              "    </tr>\n",
              "  </tbody>\n",
              "</table>\n",
              "</div>\n",
              "      <button class=\"colab-df-convert\" onclick=\"convertToInteractive('df-586957c1-841f-4ce0-baa5-2600d6d33771')\"\n",
              "              title=\"Convert this dataframe to an interactive table.\"\n",
              "              style=\"display:none;\">\n",
              "        \n",
              "  <svg xmlns=\"http://www.w3.org/2000/svg\" height=\"24px\"viewBox=\"0 0 24 24\"\n",
              "       width=\"24px\">\n",
              "    <path d=\"M0 0h24v24H0V0z\" fill=\"none\"/>\n",
              "    <path d=\"M18.56 5.44l.94 2.06.94-2.06 2.06-.94-2.06-.94-.94-2.06-.94 2.06-2.06.94zm-11 1L8.5 8.5l.94-2.06 2.06-.94-2.06-.94L8.5 2.5l-.94 2.06-2.06.94zm10 10l.94 2.06.94-2.06 2.06-.94-2.06-.94-.94-2.06-.94 2.06-2.06.94z\"/><path d=\"M17.41 7.96l-1.37-1.37c-.4-.4-.92-.59-1.43-.59-.52 0-1.04.2-1.43.59L10.3 9.45l-7.72 7.72c-.78.78-.78 2.05 0 2.83L4 21.41c.39.39.9.59 1.41.59.51 0 1.02-.2 1.41-.59l7.78-7.78 2.81-2.81c.8-.78.8-2.07 0-2.86zM5.41 20L4 18.59l7.72-7.72 1.47 1.35L5.41 20z\"/>\n",
              "  </svg>\n",
              "      </button>\n",
              "      \n",
              "  <style>\n",
              "    .colab-df-container {\n",
              "      display:flex;\n",
              "      flex-wrap:wrap;\n",
              "      gap: 12px;\n",
              "    }\n",
              "\n",
              "    .colab-df-convert {\n",
              "      background-color: #E8F0FE;\n",
              "      border: none;\n",
              "      border-radius: 50%;\n",
              "      cursor: pointer;\n",
              "      display: none;\n",
              "      fill: #1967D2;\n",
              "      height: 32px;\n",
              "      padding: 0 0 0 0;\n",
              "      width: 32px;\n",
              "    }\n",
              "\n",
              "    .colab-df-convert:hover {\n",
              "      background-color: #E2EBFA;\n",
              "      box-shadow: 0px 1px 2px rgba(60, 64, 67, 0.3), 0px 1px 3px 1px rgba(60, 64, 67, 0.15);\n",
              "      fill: #174EA6;\n",
              "    }\n",
              "\n",
              "    [theme=dark] .colab-df-convert {\n",
              "      background-color: #3B4455;\n",
              "      fill: #D2E3FC;\n",
              "    }\n",
              "\n",
              "    [theme=dark] .colab-df-convert:hover {\n",
              "      background-color: #434B5C;\n",
              "      box-shadow: 0px 1px 3px 1px rgba(0, 0, 0, 0.15);\n",
              "      filter: drop-shadow(0px 1px 2px rgba(0, 0, 0, 0.3));\n",
              "      fill: #FFFFFF;\n",
              "    }\n",
              "  </style>\n",
              "\n",
              "      <script>\n",
              "        const buttonEl =\n",
              "          document.querySelector('#df-586957c1-841f-4ce0-baa5-2600d6d33771 button.colab-df-convert');\n",
              "        buttonEl.style.display =\n",
              "          google.colab.kernel.accessAllowed ? 'block' : 'none';\n",
              "\n",
              "        async function convertToInteractive(key) {\n",
              "          const element = document.querySelector('#df-586957c1-841f-4ce0-baa5-2600d6d33771');\n",
              "          const dataTable =\n",
              "            await google.colab.kernel.invokeFunction('convertToInteractive',\n",
              "                                                     [key], {});\n",
              "          if (!dataTable) return;\n",
              "\n",
              "          const docLinkHtml = 'Like what you see? Visit the ' +\n",
              "            '<a target=\"_blank\" href=https://colab.research.google.com/notebooks/data_table.ipynb>data table notebook</a>'\n",
              "            + ' to learn more about interactive tables.';\n",
              "          element.innerHTML = '';\n",
              "          dataTable['output_type'] = 'display_data';\n",
              "          await google.colab.output.renderOutput(dataTable, element);\n",
              "          const docLink = document.createElement('div');\n",
              "          docLink.innerHTML = docLinkHtml;\n",
              "          element.appendChild(docLink);\n",
              "        }\n",
              "      </script>\n",
              "    </div>\n",
              "  </div>\n",
              "  "
            ]
          },
          "metadata": {},
          "execution_count": 189
        }
      ]
    },
    {
      "cell_type": "code",
      "source": [
        "# Check if there is any imbalance in data in percentage\n",
        "round((data[\"user_sentiment\"].value_counts(normalize=True)*100),2)"
      ],
      "metadata": {
        "colab": {
          "base_uri": "https://localhost:8080/"
        },
        "id": "LD_Dqqyz7m36",
        "outputId": "eb770b1c-fa69-41c5-d13e-4ed62e14317d"
      },
      "execution_count": 190,
      "outputs": [
        {
          "output_type": "execute_result",
          "data": {
            "text/plain": [
              "1    88.78\n",
              "0    11.22\n",
              "Name: user_sentiment, dtype: float64"
            ]
          },
          "metadata": {},
          "execution_count": 190
        }
      ]
    },
    {
      "cell_type": "code",
      "source": [
        "# Visualizing the above data\n",
        "plt.title('User Sentiment Analysis')\n",
        "sns.countplot(x='user_sentiment', data= data, palette=\"Set3\")\n",
        "plt.ylabel('Count')\n",
        "plt.xlabel('User Sentiment')\n",
        "plt.show()"
      ],
      "metadata": {
        "colab": {
          "base_uri": "https://localhost:8080/",
          "height": 533
        },
        "id": "1hfI420X7pBN",
        "outputId": "6edcc360-b937-4b8e-b76f-199b26b5e7b2"
      },
      "execution_count": 191,
      "outputs": [
        {
          "output_type": "display_data",
          "data": {
            "text/plain": [
              "<Figure size 842.4x595.44 with 1 Axes>"
            ],
            "image/png": "[encoded data removed]"
          },
          "metadata": {}
        }
      ]
    },
    {
      "cell_type": "code",
      "source": [
        "# We can observe that there is high class imbalance as 88.78% of our data has positive reviews and only 11.22% has negative reviews.\n",
        "# Hence we will have to take various steps to handle this problem."
      ],
      "metadata": {
        "id": "WEO4btcJ9CnS"
      },
      "execution_count": 192,
      "outputs": []
    },
    {
      "cell_type": "code",
      "source": [
        "# Check the various ratings given by different users to different products\n",
        "data[\"reviews_rating\"].describe()"
      ],
      "metadata": {
        "colab": {
          "base_uri": "https://localhost:8080/"
        },
        "id": "qYJqnhau-HZb",
        "outputId": "a054127e-e4f8-4876-ab76-5ce0c86dbff7"
      },
      "execution_count": 193,
      "outputs": [
        {
          "output_type": "execute_result",
          "data": {
            "text/plain": [
              "count    30000.000000\n",
              "mean         4.483133\n",
              "std          0.988441\n",
              "min          1.000000\n",
              "25%          4.000000\n",
              "50%          5.000000\n",
              "75%          5.000000\n",
              "max          5.000000\n",
              "Name: reviews_rating, dtype: float64"
            ]
          },
          "metadata": {},
          "execution_count": 193
        }
      ]
    },
    {
      "cell_type": "code",
      "source": [
        "# Check different values present in the rating column\n",
        "data[\"reviews_rating\"].value_counts(normalize=True)*100"
      ],
      "metadata": {
        "colab": {
          "base_uri": "https://localhost:8080/"
        },
        "id": "JgGIWrhN-Is7",
        "outputId": "c02ad041-8baf-4f84-e851-2ebb59b25e12"
      },
      "execution_count": 194,
      "outputs": [
        {
          "output_type": "execute_result",
          "data": {
            "text/plain": [
              "5    69.436667\n",
              "4    20.066667\n",
              "1     4.613333\n",
              "3     4.483333\n",
              "2     1.400000\n",
              "Name: reviews_rating, dtype: float64"
            ]
          },
          "metadata": {},
          "execution_count": 194
        }
      ]
    },
    {
      "cell_type": "code",
      "source": [
        "# Visualizing the above data\n",
        "plt.title('User Review Rating Analysis')\n",
        "sns.countplot(x='reviews_rating', data= data, palette=\"Set3\")\n",
        "plt.ylabel('Count')\n",
        "plt.xlabel('User Review Rating')\n",
        "plt.show()"
      ],
      "metadata": {
        "colab": {
          "base_uri": "https://localhost:8080/",
          "height": 533
        },
        "id": "nnyZb0PJ-ekk",
        "outputId": "ef9a51a5-607c-45bb-9066-be2b79f4725f"
      },
      "execution_count": 195,
      "outputs": [
        {
          "output_type": "display_data",
          "data": {
            "text/plain": [
              "<Figure size 842.4x595.44 with 1 Axes>"
            ],
            "image/png": "[encoded data removed]"
          },
          "metadata": {}
        }
      ]
    },
    {
      "cell_type": "code",
      "source": [
        "# Checking positive reviews values\n",
        "data[data[\"user_sentiment\"] == 1][\"reviews_rating\"].describe()"
      ],
      "metadata": {
        "colab": {
          "base_uri": "https://localhost:8080/"
        },
        "id": "PGNC2Yay-6Qk",
        "outputId": "6f8c9827-f873-4579-d475-1c82a033d1af"
      },
      "execution_count": 196,
      "outputs": [
        {
          "output_type": "execute_result",
          "data": {
            "text/plain": [
              "count    26633.000000\n",
              "mean         4.560395\n",
              "std          0.865182\n",
              "min          1.000000\n",
              "25%          4.000000\n",
              "50%          5.000000\n",
              "75%          5.000000\n",
              "max          5.000000\n",
              "Name: reviews_rating, dtype: float64"
            ]
          },
          "metadata": {},
          "execution_count": 196
        }
      ]
    },
    {
      "cell_type": "code",
      "source": [
        "# Checking negative reviews values\n",
        "data[data[\"user_sentiment\"] == 0][\"reviews_rating\"].describe()"
      ],
      "metadata": {
        "colab": {
          "base_uri": "https://localhost:8080/"
        },
        "id": "VmvLt-wvOY2w",
        "outputId": "9882b737-05f8-409a-89be-42e5ca3f199f"
      },
      "execution_count": 197,
      "outputs": [
        {
          "output_type": "execute_result",
          "data": {
            "text/plain": [
              "count    3367.000000\n",
              "mean        3.871993\n",
              "std         1.537589\n",
              "min         1.000000\n",
              "25%         3.000000\n",
              "50%         5.000000\n",
              "75%         5.000000\n",
              "max         5.000000\n",
              "Name: reviews_rating, dtype: float64"
            ]
          },
          "metadata": {},
          "execution_count": 197
        }
      ]
    },
    {
      "cell_type": "code",
      "source": [
        "# Check reviews_title,reviews_text and reviews_rating where user sentiment is positive and rating is less than 3\n",
        "data[(data[\"user_sentiment\"] == 1 ) & (data[\"reviews_rating\"] < 3)][[\"reviews_title\",\"reviews_text\", \"reviews_rating\"]]"
      ],
      "metadata": {
        "colab": {
          "base_uri": "https://localhost:8080/",
          "height": 936
        },
        "id": "JKHwA9enQTRw",
        "outputId": "e949260b-ae5d-4af5-af45-08d6539ebf42"
      },
      "execution_count": 198,
      "outputs": [
        {
          "output_type": "execute_result",
          "data": {
            "text/plain": [
              "                             reviews_title  \\\n",
              "9                                Don't buy   \n",
              "11                          Waste of Money   \n",
              "14                            Disappointed   \n",
              "54                 New formula is terrible   \n",
              "56       Please bring back the old formula   \n",
              "...                                    ...   \n",
              "28869                           Last Step!   \n",
              "28870       Unfortunately, Not For My Hair   \n",
              "28871  I Really Wanted To Love This But...   \n",
              "28872                      Just Not For Me   \n",
              "28873                          Meh Product   \n",
              "\n",
              "                                                                                                                                                                                                                                                                                                                                                                                                                                                                                                              reviews_text  \\\n",
              "9                                                                                                                                                                                                                                                                                                                                               Got as a surprise for my husband there is nothing special about it just a lube save the money and get plain KY if you just need a lube wish I could return it for a refund   \n",
              "11                                                                                                                                                                                                                                                                                                                                                                                            Purchased this thinking it would have some sort of warming effect but it's the same as the original. Don't waste your money.   \n",
              "14                                                                                                                                                                                                                                                                                                                                            First time purchase of this type of product. Maybe I expected too much. Did not think there was any warming feeling at all. Left us sticky! Even after trying to was it off.   \n",
              "54                                                                                                                                                                                                                                                  I used (and loved) this product for several years until they changed it. It used to moisturize my skin and left it feeling soft. Now, it sits on top of my skin and is never absorbed. It just leaves a slimy film on my skin. I will no longer purchase this product.   \n",
              "56                                                                                                                                                                                              I am so disappointed! I have used this product for years because of it's soft smell and great results. The new formula feels greasy, smells awful and I don't feel like my skin looks as toned and wrinkle free anymore. This was a five star product for so many years...why change it Please bring back the old formula.   \n",
              "...                                                                                                                                                                                                                                                                                                                                                                                                                                                                                                                    ...   \n",
              "28869  This was the last step out of the three step process. I will say that this was my least favorite step. The product is designed to take the oil away from your roots and bring moisture to your ends. However, I feel that this brought oil to all of my hair which is why I was left oily later in the day! The smell is great, but I would probably try and use a different conditioner. I received this product free for testing purposes, but all opinions are my own. This review was collected as part of a...   \n",
              "28870  I have been a big LOral fan, using their products for more than a decade now. For the past three weeks I have been testing the LOral Paris Hair Expert Extraordinary Clay range - the mask, shampoo and conditioner. I have curly hair with a normal scalp. I have been testing all three products during my regular hair care routine, but also just the shampoo and conditioner without the mask. After applying the mask which felt weird on my scalp (hard to apply, tangled up my hair pretty badly), I use...   \n",
              "28871                    Despite using this with the line's hair mask and shampoo, I didn't find much difference in oil control the next day and still felt the need to use dry shampoo. It smells nice and made my hair feel soft, but it just didn't live up to all of its promises, in my opinion. Such a shame too because I love the concept and really wanted this to work for me! I received this product free for testing purposes, but all opinions are my own. This review was collected as part of a promotion.   \n",
              "28872                                                                                                                                                                         I tried out this whole set.i wanted it to work but the scent wasn't favorable and my hair felt really dry, hard and stiff after and I've always been so proud of my soft hair. I tried using this for a week or so but had to stop in fear that I was causing permanent damage to my hair. This review was collected as part of a promotion.   \n",
              "28873                                                                                                                      Received this product from Influenster to test in addition to the pre-shampoo mask and shampoo. I used all three products together and it was too drying even though i have an oily scalp. The product smelled great and I loved the color of the product packaging but overall it was very disappointing and lackluster. Not L'Oreal's best. This review was collected as part of a promotion.   \n",
              "\n",
              "       reviews_rating  \n",
              "9                   1  \n",
              "11                  1  \n",
              "14                  1  \n",
              "54                  1  \n",
              "56                  1  \n",
              "...               ...  \n",
              "28869               2  \n",
              "28870               2  \n",
              "28871               2  \n",
              "28872               2  \n",
              "28873               2  \n",
              "\n",
              "[1067 rows x 3 columns]"
            ],
            "text/html": [
              "\n",
              "  <div id=\"df-6ea53078-217a-4b8b-a970-8c3544c7b132\">\n",
              "    <div class=\"colab-df-container\">\n",
              "      <div>\n",
              "<style scoped>\n",
              "    .dataframe tbody tr th:only-of-type {\n",
              "        vertical-align: middle;\n",
              "    }\n",
              "\n",
              "    .dataframe tbody tr th {\n",
              "        vertical-align: top;\n",
              "    }\n",
              "\n",
              "    .dataframe thead th {\n",
              "        text-align: right;\n",
              "    }\n",
              "</style>\n",
              "<table border=\"1\" class=\"dataframe\">\n",
              "  <thead>\n",
              "    <tr style=\"text-align: right;\">\n",
              "      <th></th>\n",
              "      <th>reviews_title</th>\n",
              "      <th>reviews_text</th>\n",
              "      <th>reviews_rating</th>\n",
              "    </tr>\n",
              "  </thead>\n",
              "  <tbody>\n",
              "    <tr>\n",
              "      <th>9</th>\n",
              "      <td>Don't buy</td>\n",
              "      <td>Got as a surprise for my husband there is nothing special about it just a lube save the money and get plain KY if you just need a lube wish I could return it for a refund</td>\n",
              "      <td>1</td>\n",
              "    </tr>\n",
              "    <tr>\n",
              "      <th>11</th>\n",
              "      <td>Waste of Money</td>\n",
              "      <td>Purchased this thinking it would have some sort of warming effect but it's the same as the original. Don't waste your money.</td>\n",
              "      <td>1</td>\n",
              "    </tr>\n",
              "    <tr>\n",
              "      <th>14</th>\n",
              "      <td>Disappointed</td>\n",
              "      <td>First time purchase of this type of product. Maybe I expected too much. Did not think there was any warming feeling at all. Left us sticky! Even after trying to was it off.</td>\n",
              "      <td>1</td>\n",
              "    </tr>\n",
              "    <tr>\n",
              "      <th>54</th>\n",
              "      <td>New formula is terrible</td>\n",
              "      <td>I used (and loved) this product for several years until they changed it. It used to moisturize my skin and left it feeling soft. Now, it sits on top of my skin and is never absorbed. It just leaves a slimy film on my skin. I will no longer purchase this product.</td>\n",
              "      <td>1</td>\n",
              "    </tr>\n",
              "    <tr>\n",
              "      <th>56</th>\n",
              "      <td>Please bring back the old formula</td>\n",
              "      <td>I am so disappointed! I have used this product for years because of it's soft smell and great results. The new formula feels greasy, smells awful and I don't feel like my skin looks as toned and wrinkle free anymore. This was a five star product for so many years...why change it Please bring back the old formula.</td>\n",
              "      <td>1</td>\n",
              "    </tr>\n",
              "    <tr>\n",
              "      <th>...</th>\n",
              "      <td>...</td>\n",
              "      <td>...</td>\n",
              "      <td>...</td>\n",
              "    </tr>\n",
              "    <tr>\n",
              "      <th>28869</th>\n",
              "      <td>Last Step!</td>\n",
              "      <td>This was the last step out of the three step process. I will say that this was my least favorite step. The product is designed to take the oil away from your roots and bring moisture to your ends. However, I feel that this brought oil to all of my hair which is why I was left oily later in the day! The smell is great, but I would probably try and use a different conditioner. I received this product free for testing purposes, but all opinions are my own. This review was collected as part of a...</td>\n",
              "      <td>2</td>\n",
              "    </tr>\n",
              "    <tr>\n",
              "      <th>28870</th>\n",
              "      <td>Unfortunately, Not For My Hair</td>\n",
              "      <td>I have been a big LOral fan, using their products for more than a decade now. For the past three weeks I have been testing the LOral Paris Hair Expert Extraordinary Clay range - the mask, shampoo and conditioner. I have curly hair with a normal scalp. I have been testing all three products during my regular hair care routine, but also just the shampoo and conditioner without the mask. After applying the mask which felt weird on my scalp (hard to apply, tangled up my hair pretty badly), I use...</td>\n",
              "      <td>2</td>\n",
              "    </tr>\n",
              "    <tr>\n",
              "      <th>28871</th>\n",
              "      <td>I Really Wanted To Love This But...</td>\n",
              "      <td>Despite using this with the line's hair mask and shampoo, I didn't find much difference in oil control the next day and still felt the need to use dry shampoo. It smells nice and made my hair feel soft, but it just didn't live up to all of its promises, in my opinion. Such a shame too because I love the concept and really wanted this to work for me! I received this product free for testing purposes, but all opinions are my own. This review was collected as part of a promotion.</td>\n",
              "      <td>2</td>\n",
              "    </tr>\n",
              "    <tr>\n",
              "      <th>28872</th>\n",
              "      <td>Just Not For Me</td>\n",
              "      <td>I tried out this whole set.i wanted it to work but the scent wasn't favorable and my hair felt really dry, hard and stiff after and I've always been so proud of my soft hair. I tried using this for a week or so but had to stop in fear that I was causing permanent damage to my hair. This review was collected as part of a promotion.</td>\n",
              "      <td>2</td>\n",
              "    </tr>\n",
              "    <tr>\n",
              "      <th>28873</th>\n",
              "      <td>Meh Product</td>\n",
              "      <td>Received this product from Influenster to test in addition to the pre-shampoo mask and shampoo. I used all three products together and it was too drying even though i have an oily scalp. The product smelled great and I loved the color of the product packaging but overall it was very disappointing and lackluster. Not L'Oreal's best. This review was collected as part of a promotion.</td>\n",
              "      <td>2</td>\n",
              "    </tr>\n",
              "  </tbody>\n",
              "</table>\n",
              "<p>1067 rows × 3 columns</p>\n",
              "</div>\n",
              "      <button class=\"colab-df-convert\" onclick=\"convertToInteractive('df-6ea53078-217a-4b8b-a970-8c3544c7b132')\"\n",
              "              title=\"Convert this dataframe to an interactive table.\"\n",
              "              style=\"display:none;\">\n",
              "        \n",
              "  <svg xmlns=\"http://www.w3.org/2000/svg\" height=\"24px\"viewBox=\"0 0 24 24\"\n",
              "       width=\"24px\">\n",
              "    <path d=\"M0 0h24v24H0V0z\" fill=\"none\"/>\n",
              "    <path d=\"M18.56 5.44l.94 2.06.94-2.06 2.06-.94-2.06-.94-.94-2.06-.94 2.06-2.06.94zm-11 1L8.5 8.5l.94-2.06 2.06-.94-2.06-.94L8.5 2.5l-.94 2.06-2.06.94zm10 10l.94 2.06.94-2.06 2.06-.94-2.06-.94-.94-2.06-.94 2.06-2.06.94z\"/><path d=\"M17.41 7.96l-1.37-1.37c-.4-.4-.92-.59-1.43-.59-.52 0-1.04.2-1.43.59L10.3 9.45l-7.72 7.72c-.78.78-.78 2.05 0 2.83L4 21.41c.39.39.9.59 1.41.59.51 0 1.02-.2 1.41-.59l7.78-7.78 2.81-2.81c.8-.78.8-2.07 0-2.86zM5.41 20L4 18.59l7.72-7.72 1.47 1.35L5.41 20z\"/>\n",
              "  </svg>\n",
              "      </button>\n",
              "      \n",
              "  <style>\n",
              "    .colab-df-container {\n",
              "      display:flex;\n",
              "      flex-wrap:wrap;\n",
              "      gap: 12px;\n",
              "    }\n",
              "\n",
              "    .colab-df-convert {\n",
              "      background-color: #E8F0FE;\n",
              "      border: none;\n",
              "      border-radius: 50%;\n",
              "      cursor: pointer;\n",
              "      display: none;\n",
              "      fill: #1967D2;\n",
              "      height: 32px;\n",
              "      padding: 0 0 0 0;\n",
              "      width: 32px;\n",
              "    }\n",
              "\n",
              "    .colab-df-convert:hover {\n",
              "      background-color: #E2EBFA;\n",
              "      box-shadow: 0px 1px 2px rgba(60, 64, 67, 0.3), 0px 1px 3px 1px rgba(60, 64, 67, 0.15);\n",
              "      fill: #174EA6;\n",
              "    }\n",
              "\n",
              "    [theme=dark] .colab-df-convert {\n",
              "      background-color: #3B4455;\n",
              "      fill: #D2E3FC;\n",
              "    }\n",
              "\n",
              "    [theme=dark] .colab-df-convert:hover {\n",
              "      background-color: #434B5C;\n",
              "      box-shadow: 0px 1px 3px 1px rgba(0, 0, 0, 0.15);\n",
              "      filter: drop-shadow(0px 1px 2px rgba(0, 0, 0, 0.3));\n",
              "      fill: #FFFFFF;\n",
              "    }\n",
              "  </style>\n",
              "\n",
              "      <script>\n",
              "        const buttonEl =\n",
              "          document.querySelector('#df-6ea53078-217a-4b8b-a970-8c3544c7b132 button.colab-df-convert');\n",
              "        buttonEl.style.display =\n",
              "          google.colab.kernel.accessAllowed ? 'block' : 'none';\n",
              "\n",
              "        async function convertToInteractive(key) {\n",
              "          const element = document.querySelector('#df-6ea53078-217a-4b8b-a970-8c3544c7b132');\n",
              "          const dataTable =\n",
              "            await google.colab.kernel.invokeFunction('convertToInteractive',\n",
              "                                                     [key], {});\n",
              "          if (!dataTable) return;\n",
              "\n",
              "          const docLinkHtml = 'Like what you see? Visit the ' +\n",
              "            '<a target=\"_blank\" href=https://colab.research.google.com/notebooks/data_table.ipynb>data table notebook</a>'\n",
              "            + ' to learn more about interactive tables.';\n",
              "          element.innerHTML = '';\n",
              "          dataTable['output_type'] = 'display_data';\n",
              "          await google.colab.output.renderOutput(dataTable, element);\n",
              "          const docLink = document.createElement('div');\n",
              "          docLink.innerHTML = docLinkHtml;\n",
              "          element.appendChild(docLink);\n",
              "        }\n",
              "      </script>\n",
              "    </div>\n",
              "  </div>\n",
              "  "
            ]
          },
          "metadata": {},
          "execution_count": 198
        }
      ]
    },
    {
      "cell_type": "code",
      "source": [
        "# Check reviews_title,reviews_text and reviews_rating where user sentiment is negative and rating is greater than 3\n",
        "data[(data[\"user_sentiment\"] == 0) & (data[\"reviews_rating\"] > 3)][[\"reviews_title\",\"reviews_text\", \"reviews_rating\"]]"
      ],
      "metadata": {
        "colab": {
          "base_uri": "https://localhost:8080/",
          "height": 780
        },
        "id": "7lSEx3awQbiO",
        "outputId": "7bffb0d0-f38c-4bbd-e84b-079c4529696b"
      },
      "execution_count": 199,
      "outputs": [
        {
          "output_type": "execute_result",
          "data": {
            "text/plain": [
              "                                            reviews_title  \\\n",
              "92                            hydrating but not too heavy   \n",
              "96     This product has made a real difference on my skin   \n",
              "100               Noticed a difference in just two weeks!   \n",
              "106                                       Very rich cream   \n",
              "117                                            Not greasy   \n",
              "...                                                   ...   \n",
              "29818                                       Great Product   \n",
              "29855                                               Great   \n",
              "29858    Makes my hair soft and shiny without excess oil!   \n",
              "29862                                   Great Conditioner   \n",
              "29941     Good for keeping combination hair under control   \n",
              "\n",
              "                                                                                                                                                                                                                                                                                                                                                           reviews_text  \\\n",
              "92                                                                                                                                                                                                                                               It hydrates my skin. It is not too thick and heavy when I put it on. This review was collected as part of a promotion.   \n",
              "96                                                                                                                                                                                                                                                     In only a week I can see the difference in my skin on my face. This review was collected as part of a promotion.   \n",
              "100                                                                                                                                                                                                    This product has made my skin smoother and supple after only two weeks. It absorbs well and leaves no residue. This review was collected as part of a promotion.   \n",
              "106                                                                                                                                                                    I like to use this cream on my neck and collarbone to help keep my skin well moisturized, but it can be a little heavy for the skin on my face This review was collected as part of a promotion.   \n",
              "117                                                                                                          I finally found a moisturizing product that will absorb completely and not leave my skin feeling like it's suffocating. I apply it, and it feels like there is nothing there but my skin looks smoother. This review was collected as part of a promotion.   \n",
              "...                                                                                                                                                                                                                                                                                                                                                                 ...   \n",
              "29818                                         I received a complimentary sample of this product and it worked so well for my hair! I have very thick hair so my roots always get oily and my ends are dry, this left my hair the cleanest it's felt in a long time. Will def recommend this to my family and friends! This review was collected as part of a promotion.   \n",
              "29855                                                                                                                                                                                          This has prolonged the color in my hair! Not only is my hair healthier but I think I'll have to visit my stylist less! This review was collected as part of a promotion.   \n",
              "29858                                                This conditioner makes my hair very soft without weighing it down! I was afraid it'd make my roots more oily and weight them down, but it doesn't one bit! My hair is colored, and it hasn't faded out the color either! I'd highly recommend giving this a try! This review was collected as part of a promotion.   \n",
              "29862                                                                                                                                                                                                                                                         This conditioner has become a staple in my hair regimen This review was collected as part of a promotion.   \n",
              "29941  It's very difficult to find a conditioner that's non-greasy. I found that this one (especially when used as part of the set) was hydrating and made my hair soft and shiny without that nasty greasy feeling. I received this product free from Influenster for testing purposes, but all opinions are my own. This review was collected as part of a promotion.   \n",
              "\n",
              "       reviews_rating  \n",
              "92                  4  \n",
              "96                  4  \n",
              "100                 4  \n",
              "106                 4  \n",
              "117                 4  \n",
              "...               ...  \n",
              "29818               5  \n",
              "29855               5  \n",
              "29858               5  \n",
              "29862               5  \n",
              "29941               5  \n",
              "\n",
              "[2410 rows x 3 columns]"
            ],
            "text/html": [
              "\n",
              "  <div id=\"df-cf58e30f-bbfc-41b5-a16e-12b96e9765b3\">\n",
              "    <div class=\"colab-df-container\">\n",
              "      <div>\n",
              "<style scoped>\n",
              "    .dataframe tbody tr th:only-of-type {\n",
              "        vertical-align: middle;\n",
              "    }\n",
              "\n",
              "    .dataframe tbody tr th {\n",
              "        vertical-align: top;\n",
              "    }\n",
              "\n",
              "    .dataframe thead th {\n",
              "        text-align: right;\n",
              "    }\n",
              "</style>\n",
              "<table border=\"1\" class=\"dataframe\">\n",
              "  <thead>\n",
              "    <tr style=\"text-align: right;\">\n",
              "      <th></th>\n",
              "      <th>reviews_title</th>\n",
              "      <th>reviews_text</th>\n",
              "      <th>reviews_rating</th>\n",
              "    </tr>\n",
              "  </thead>\n",
              "  <tbody>\n",
              "    <tr>\n",
              "      <th>92</th>\n",
              "      <td>hydrating but not too heavy</td>\n",
              "      <td>It hydrates my skin. It is not too thick and heavy when I put it on. This review was collected as part of a promotion.</td>\n",
              "      <td>4</td>\n",
              "    </tr>\n",
              "    <tr>\n",
              "      <th>96</th>\n",
              "      <td>This product has made a real difference on my skin</td>\n",
              "      <td>In only a week I can see the difference in my skin on my face. This review was collected as part of a promotion.</td>\n",
              "      <td>4</td>\n",
              "    </tr>\n",
              "    <tr>\n",
              "      <th>100</th>\n",
              "      <td>Noticed a difference in just two weeks!</td>\n",
              "      <td>This product has made my skin smoother and supple after only two weeks. It absorbs well and leaves no residue. This review was collected as part of a promotion.</td>\n",
              "      <td>4</td>\n",
              "    </tr>\n",
              "    <tr>\n",
              "      <th>106</th>\n",
              "      <td>Very rich cream</td>\n",
              "      <td>I like to use this cream on my neck and collarbone to help keep my skin well moisturized, but it can be a little heavy for the skin on my face This review was collected as part of a promotion.</td>\n",
              "      <td>4</td>\n",
              "    </tr>\n",
              "    <tr>\n",
              "      <th>117</th>\n",
              "      <td>Not greasy</td>\n",
              "      <td>I finally found a moisturizing product that will absorb completely and not leave my skin feeling like it's suffocating. I apply it, and it feels like there is nothing there but my skin looks smoother. This review was collected as part of a promotion.</td>\n",
              "      <td>4</td>\n",
              "    </tr>\n",
              "    <tr>\n",
              "      <th>...</th>\n",
              "      <td>...</td>\n",
              "      <td>...</td>\n",
              "      <td>...</td>\n",
              "    </tr>\n",
              "    <tr>\n",
              "      <th>29818</th>\n",
              "      <td>Great Product</td>\n",
              "      <td>I received a complimentary sample of this product and it worked so well for my hair! I have very thick hair so my roots always get oily and my ends are dry, this left my hair the cleanest it's felt in a long time. Will def recommend this to my family and friends! This review was collected as part of a promotion.</td>\n",
              "      <td>5</td>\n",
              "    </tr>\n",
              "    <tr>\n",
              "      <th>29855</th>\n",
              "      <td>Great</td>\n",
              "      <td>This has prolonged the color in my hair! Not only is my hair healthier but I think I'll have to visit my stylist less! This review was collected as part of a promotion.</td>\n",
              "      <td>5</td>\n",
              "    </tr>\n",
              "    <tr>\n",
              "      <th>29858</th>\n",
              "      <td>Makes my hair soft and shiny without excess oil!</td>\n",
              "      <td>This conditioner makes my hair very soft without weighing it down! I was afraid it'd make my roots more oily and weight them down, but it doesn't one bit! My hair is colored, and it hasn't faded out the color either! I'd highly recommend giving this a try! This review was collected as part of a promotion.</td>\n",
              "      <td>5</td>\n",
              "    </tr>\n",
              "    <tr>\n",
              "      <th>29862</th>\n",
              "      <td>Great Conditioner</td>\n",
              "      <td>This conditioner has become a staple in my hair regimen This review was collected as part of a promotion.</td>\n",
              "      <td>5</td>\n",
              "    </tr>\n",
              "    <tr>\n",
              "      <th>29941</th>\n",
              "      <td>Good for keeping combination hair under control</td>\n",
              "      <td>It's very difficult to find a conditioner that's non-greasy. I found that this one (especially when used as part of the set) was hydrating and made my hair soft and shiny without that nasty greasy feeling. I received this product free from Influenster for testing purposes, but all opinions are my own. This review was collected as part of a promotion.</td>\n",
              "      <td>5</td>\n",
              "    </tr>\n",
              "  </tbody>\n",
              "</table>\n",
              "<p>2410 rows × 3 columns</p>\n",
              "</div>\n",
              "      <button class=\"colab-df-convert\" onclick=\"convertToInteractive('df-cf58e30f-bbfc-41b5-a16e-12b96e9765b3')\"\n",
              "              title=\"Convert this dataframe to an interactive table.\"\n",
              "              style=\"display:none;\">\n",
              "        \n",
              "  <svg xmlns=\"http://www.w3.org/2000/svg\" height=\"24px\"viewBox=\"0 0 24 24\"\n",
              "       width=\"24px\">\n",
              "    <path d=\"M0 0h24v24H0V0z\" fill=\"none\"/>\n",
              "    <path d=\"M18.56 5.44l.94 2.06.94-2.06 2.06-.94-2.06-.94-.94-2.06-.94 2.06-2.06.94zm-11 1L8.5 8.5l.94-2.06 2.06-.94-2.06-.94L8.5 2.5l-.94 2.06-2.06.94zm10 10l.94 2.06.94-2.06 2.06-.94-2.06-.94-.94-2.06-.94 2.06-2.06.94z\"/><path d=\"M17.41 7.96l-1.37-1.37c-.4-.4-.92-.59-1.43-.59-.52 0-1.04.2-1.43.59L10.3 9.45l-7.72 7.72c-.78.78-.78 2.05 0 2.83L4 21.41c.39.39.9.59 1.41.59.51 0 1.02-.2 1.41-.59l7.78-7.78 2.81-2.81c.8-.78.8-2.07 0-2.86zM5.41 20L4 18.59l7.72-7.72 1.47 1.35L5.41 20z\"/>\n",
              "  </svg>\n",
              "      </button>\n",
              "      \n",
              "  <style>\n",
              "    .colab-df-container {\n",
              "      display:flex;\n",
              "      flex-wrap:wrap;\n",
              "      gap: 12px;\n",
              "    }\n",
              "\n",
              "    .colab-df-convert {\n",
              "      background-color: #E8F0FE;\n",
              "      border: none;\n",
              "      border-radius: 50%;\n",
              "      cursor: pointer;\n",
              "      display: none;\n",
              "      fill: #1967D2;\n",
              "      height: 32px;\n",
              "      padding: 0 0 0 0;\n",
              "      width: 32px;\n",
              "    }\n",
              "\n",
              "    .colab-df-convert:hover {\n",
              "      background-color: #E2EBFA;\n",
              "      box-shadow: 0px 1px 2px rgba(60, 64, 67, 0.3), 0px 1px 3px 1px rgba(60, 64, 67, 0.15);\n",
              "      fill: #174EA6;\n",
              "    }\n",
              "\n",
              "    [theme=dark] .colab-df-convert {\n",
              "      background-color: #3B4455;\n",
              "      fill: #D2E3FC;\n",
              "    }\n",
              "\n",
              "    [theme=dark] .colab-df-convert:hover {\n",
              "      background-color: #434B5C;\n",
              "      box-shadow: 0px 1px 3px 1px rgba(0, 0, 0, 0.15);\n",
              "      filter: drop-shadow(0px 1px 2px rgba(0, 0, 0, 0.3));\n",
              "      fill: #FFFFFF;\n",
              "    }\n",
              "  </style>\n",
              "\n",
              "      <script>\n",
              "        const buttonEl =\n",
              "          document.querySelector('#df-cf58e30f-bbfc-41b5-a16e-12b96e9765b3 button.colab-df-convert');\n",
              "        buttonEl.style.display =\n",
              "          google.colab.kernel.accessAllowed ? 'block' : 'none';\n",
              "\n",
              "        async function convertToInteractive(key) {\n",
              "          const element = document.querySelector('#df-cf58e30f-bbfc-41b5-a16e-12b96e9765b3');\n",
              "          const dataTable =\n",
              "            await google.colab.kernel.invokeFunction('convertToInteractive',\n",
              "                                                     [key], {});\n",
              "          if (!dataTable) return;\n",
              "\n",
              "          const docLinkHtml = 'Like what you see? Visit the ' +\n",
              "            '<a target=\"_blank\" href=https://colab.research.google.com/notebooks/data_table.ipynb>data table notebook</a>'\n",
              "            + ' to learn more about interactive tables.';\n",
              "          element.innerHTML = '';\n",
              "          dataTable['output_type'] = 'display_data';\n",
              "          await google.colab.output.renderOutput(dataTable, element);\n",
              "          const docLink = document.createElement('div');\n",
              "          docLink.innerHTML = docLinkHtml;\n",
              "          element.appendChild(docLink);\n",
              "        }\n",
              "      </script>\n",
              "    </div>\n",
              "  </div>\n",
              "  "
            ]
          },
          "metadata": {},
          "execution_count": 199
        }
      ]
    },
    {
      "cell_type": "code",
      "source": [
        "# We can observe that where user sentiment is positive and the rating is less than 3 user review is actually negative but recorded as positive.\n",
        "# Also where user sentiment is negative and the rating is greater than 3 user review is actually positive but recorded as negative.\n",
        "# Hence we will update the target column values accordingly."
      ],
      "metadata": {
        "id": "9TlZa4ekQqFB"
      },
      "execution_count": 200,
      "outputs": []
    },
    {
      "cell_type": "code",
      "source": [
        "#  Updating the user_sentiment to 0 which was 1 when the reviews_rating is less than 3\n",
        "data.loc[(data[\"user_sentiment\"] == 1 ) & (data[\"reviews_rating\"] < 3),'user_sentiment'] = 0\n",
        "\n",
        "#  Updating the user_sentiment to 1 which was 0 when the reviews_rating is greater than 3\n",
        "data.loc[(data[\"user_sentiment\"] == 0) & (data[\"reviews_rating\"] > 3),'user_sentiment'] = 1"
      ],
      "metadata": {
        "id": "8AX-0Ed0R7Hq"
      },
      "execution_count": 201,
      "outputs": []
    },
    {
      "cell_type": "code",
      "source": [
        "# Checking the imbalance in data (Percentage format)\n",
        "round((data[\"user_sentiment\"].value_counts(normalize=True)*100),2)"
      ],
      "metadata": {
        "colab": {
          "base_uri": "https://localhost:8080/"
        },
        "id": "-nWcg4E_SUfH",
        "outputId": "bca325d4-4ba8-46ff-c02d-62bbc35b9778"
      },
      "execution_count": 202,
      "outputs": [
        {
          "output_type": "execute_result",
          "data": {
            "text/plain": [
              "1    93.25\n",
              "0     6.75\n",
              "Name: user_sentiment, dtype: float64"
            ]
          },
          "metadata": {},
          "execution_count": 202
        }
      ]
    },
    {
      "cell_type": "code",
      "source": [
        "# Checking the imbalance in data (Number of rows)\n",
        "data[\"user_sentiment\"].value_counts()"
      ],
      "metadata": {
        "colab": {
          "base_uri": "https://localhost:8080/"
        },
        "id": "UIa1xUcZSZfC",
        "outputId": "ab844fbc-7c23-46e4-b46b-7881cd28359c"
      },
      "execution_count": 203,
      "outputs": [
        {
          "output_type": "execute_result",
          "data": {
            "text/plain": [
              "1    27976\n",
              "0     2024\n",
              "Name: user_sentiment, dtype: int64"
            ]
          },
          "metadata": {},
          "execution_count": 203
        }
      ]
    },
    {
      "cell_type": "code",
      "source": [
        "# Checking if user rating and user sentiment go hand in hand\n",
        "pd.crosstab(data[\"reviews_rating\"], data[\"user_sentiment\"], margins=True)"
      ],
      "metadata": {
        "colab": {
          "base_uri": "https://localhost:8080/",
          "height": 269
        },
        "id": "_zNzS9l0SkhW",
        "outputId": "610651fd-fc17-495e-c8ee-b371ca5e4a35"
      },
      "execution_count": 204,
      "outputs": [
        {
          "output_type": "execute_result",
          "data": {
            "text/plain": [
              "user_sentiment     0      1    All\n",
              "reviews_rating                    \n",
              "1               1384      0   1384\n",
              "2                420      0    420\n",
              "3                220   1125   1345\n",
              "4                  0   6020   6020\n",
              "5                  0  20831  20831\n",
              "All             2024  27976  30000"
            ],
            "text/html": [
              "\n",
              "  <div id=\"df-1d06da90-7f49-4d33-87f9-5baf58c2cda1\">\n",
              "    <div class=\"colab-df-container\">\n",
              "      <div>\n",
              "<style scoped>\n",
              "    .dataframe tbody tr th:only-of-type {\n",
              "        vertical-align: middle;\n",
              "    }\n",
              "\n",
              "    .dataframe tbody tr th {\n",
              "        vertical-align: top;\n",
              "    }\n",
              "\n",
              "    .dataframe thead th {\n",
              "        text-align: right;\n",
              "    }\n",
              "</style>\n",
              "<table border=\"1\" class=\"dataframe\">\n",
              "  <thead>\n",
              "    <tr style=\"text-align: right;\">\n",
              "      <th>user_sentiment</th>\n",
              "      <th>0</th>\n",
              "      <th>1</th>\n",
              "      <th>All</th>\n",
              "    </tr>\n",
              "    <tr>\n",
              "      <th>reviews_rating</th>\n",
              "      <th></th>\n",
              "      <th></th>\n",
              "      <th></th>\n",
              "    </tr>\n",
              "  </thead>\n",
              "  <tbody>\n",
              "    <tr>\n",
              "      <th>1</th>\n",
              "      <td>1384</td>\n",
              "      <td>0</td>\n",
              "      <td>1384</td>\n",
              "    </tr>\n",
              "    <tr>\n",
              "      <th>2</th>\n",
              "      <td>420</td>\n",
              "      <td>0</td>\n",
              "      <td>420</td>\n",
              "    </tr>\n",
              "    <tr>\n",
              "      <th>3</th>\n",
              "      <td>220</td>\n",
              "      <td>1125</td>\n",
              "      <td>1345</td>\n",
              "    </tr>\n",
              "    <tr>\n",
              "      <th>4</th>\n",
              "      <td>0</td>\n",
              "      <td>6020</td>\n",
              "      <td>6020</td>\n",
              "    </tr>\n",
              "    <tr>\n",
              "      <th>5</th>\n",
              "      <td>0</td>\n",
              "      <td>20831</td>\n",
              "      <td>20831</td>\n",
              "    </tr>\n",
              "    <tr>\n",
              "      <th>All</th>\n",
              "      <td>2024</td>\n",
              "      <td>27976</td>\n",
              "      <td>30000</td>\n",
              "    </tr>\n",
              "  </tbody>\n",
              "</table>\n",
              "</div>\n",
              "      <button class=\"colab-df-convert\" onclick=\"convertToInteractive('df-1d06da90-7f49-4d33-87f9-5baf58c2cda1')\"\n",
              "              title=\"Convert this dataframe to an interactive table.\"\n",
              "              style=\"display:none;\">\n",
              "        \n",
              "  <svg xmlns=\"http://www.w3.org/2000/svg\" height=\"24px\"viewBox=\"0 0 24 24\"\n",
              "       width=\"24px\">\n",
              "    <path d=\"M0 0h24v24H0V0z\" fill=\"none\"/>\n",
              "    <path d=\"M18.56 5.44l.94 2.06.94-2.06 2.06-.94-2.06-.94-.94-2.06-.94 2.06-2.06.94zm-11 1L8.5 8.5l.94-2.06 2.06-.94-2.06-.94L8.5 2.5l-.94 2.06-2.06.94zm10 10l.94 2.06.94-2.06 2.06-.94-2.06-.94-.94-2.06-.94 2.06-2.06.94z\"/><path d=\"M17.41 7.96l-1.37-1.37c-.4-.4-.92-.59-1.43-.59-.52 0-1.04.2-1.43.59L10.3 9.45l-7.72 7.72c-.78.78-.78 2.05 0 2.83L4 21.41c.39.39.9.59 1.41.59.51 0 1.02-.2 1.41-.59l7.78-7.78 2.81-2.81c.8-.78.8-2.07 0-2.86zM5.41 20L4 18.59l7.72-7.72 1.47 1.35L5.41 20z\"/>\n",
              "  </svg>\n",
              "      </button>\n",
              "      \n",
              "  <style>\n",
              "    .colab-df-container {\n",
              "      display:flex;\n",
              "      flex-wrap:wrap;\n",
              "      gap: 12px;\n",
              "    }\n",
              "\n",
              "    .colab-df-convert {\n",
              "      background-color: #E8F0FE;\n",
              "      border: none;\n",
              "      border-radius: 50%;\n",
              "      cursor: pointer;\n",
              "      display: none;\n",
              "      fill: #1967D2;\n",
              "      height: 32px;\n",
              "      padding: 0 0 0 0;\n",
              "      width: 32px;\n",
              "    }\n",
              "\n",
              "    .colab-df-convert:hover {\n",
              "      background-color: #E2EBFA;\n",
              "      box-shadow: 0px 1px 2px rgba(60, 64, 67, 0.3), 0px 1px 3px 1px rgba(60, 64, 67, 0.15);\n",
              "      fill: #174EA6;\n",
              "    }\n",
              "\n",
              "    [theme=dark] .colab-df-convert {\n",
              "      background-color: #3B4455;\n",
              "      fill: #D2E3FC;\n",
              "    }\n",
              "\n",
              "    [theme=dark] .colab-df-convert:hover {\n",
              "      background-color: #434B5C;\n",
              "      box-shadow: 0px 1px 3px 1px rgba(0, 0, 0, 0.15);\n",
              "      filter: drop-shadow(0px 1px 2px rgba(0, 0, 0, 0.3));\n",
              "      fill: #FFFFFF;\n",
              "    }\n",
              "  </style>\n",
              "\n",
              "      <script>\n",
              "        const buttonEl =\n",
              "          document.querySelector('#df-1d06da90-7f49-4d33-87f9-5baf58c2cda1 button.colab-df-convert');\n",
              "        buttonEl.style.display =\n",
              "          google.colab.kernel.accessAllowed ? 'block' : 'none';\n",
              "\n",
              "        async function convertToInteractive(key) {\n",
              "          const element = document.querySelector('#df-1d06da90-7f49-4d33-87f9-5baf58c2cda1');\n",
              "          const dataTable =\n",
              "            await google.colab.kernel.invokeFunction('convertToInteractive',\n",
              "                                                     [key], {});\n",
              "          if (!dataTable) return;\n",
              "\n",
              "          const docLinkHtml = 'Like what you see? Visit the ' +\n",
              "            '<a target=\"_blank\" href=https://colab.research.google.com/notebooks/data_table.ipynb>data table notebook</a>'\n",
              "            + ' to learn more about interactive tables.';\n",
              "          element.innerHTML = '';\n",
              "          dataTable['output_type'] = 'display_data';\n",
              "          await google.colab.output.renderOutput(dataTable, element);\n",
              "          const docLink = document.createElement('div');\n",
              "          docLink.innerHTML = docLinkHtml;\n",
              "          element.appendChild(docLink);\n",
              "        }\n",
              "      </script>\n",
              "    </div>\n",
              "  </div>\n",
              "  "
            ]
          },
          "metadata": {},
          "execution_count": 204
        }
      ]
    },
    {
      "cell_type": "code",
      "source": [
        "# Filter the top 20 brands among the positive sentiments\n",
        "data[data['user_sentiment']==1].groupby('brand')['brand'].count().sort_values(ascending=False)[:20]"
      ],
      "metadata": {
        "colab": {
          "base_uri": "https://localhost:8080/"
        },
        "id": "6ouJJnDKTozv",
        "outputId": "2fde6423-cb2e-46aa-9aff-4bc16de846c3"
      },
      "execution_count": 205,
      "outputs": [
        {
          "output_type": "execute_result",
          "data": {
            "text/plain": [
              "brand\n",
              "Clorox                  10529\n",
              "Warner Home Video        3175\n",
              "Disney                   1188\n",
              "L'oreal Paris            1110\n",
              "Burt's Bees               838\n",
              "FOX                       834\n",
              "Sony Pictures             831\n",
              "Summit Entertainment      800\n",
              "Universal Home Video      648\n",
              "Olay                      622\n",
              "Warner Bros.              438\n",
              "Lundberg                  401\n",
              "Hoover                    322\n",
              "Avery                     314\n",
              "Pendaflex                 292\n",
              "Windex                    283\n",
              "Tostitos                  267\n",
              "Vaseline                  246\n",
              "Storkcraft                241\n",
              "Warner Music Group        200\n",
              "Name: brand, dtype: int64"
            ]
          },
          "metadata": {},
          "execution_count": 205
        }
      ]
    },
    {
      "cell_type": "code",
      "source": [
        "# Visualize the top 20 brands among the positive sentiments\n",
        "plt.title('Brand Based Sentiment Analysis for Positive sentiments')\n",
        "sns.set(rc={'figure.figsize':(11.7, 8.27)})\n",
        "brand_data_positive = data[data['user_sentiment'] == 1].groupby('brand')['brand'].count().sort_values(ascending=False)[:20]\n",
        "sns.barplot(x=brand_data_positive.index, y = brand_data_positive.values ,data= brand_data_positive, palette=\"rocket\")\n",
        "plt.ylabel('Count')\n",
        "plt.xlabel('Brands')\n",
        "plt.show()"
      ],
      "metadata": {
        "colab": {
          "base_uri": "https://localhost:8080/",
          "height": 533
        },
        "id": "etA889vvTfNz",
        "outputId": "e7ca7a67-2399-40d2-b90c-040bf1b66518"
      },
      "execution_count": 206,
      "outputs": [
        {
          "output_type": "display_data",
          "data": {
            "text/plain": [
              "<Figure size 842.4x595.44 with 1 Axes>"
            ],
            "image/png": "[encoded data removed]"
          },
          "metadata": {}
        }
      ]
    },
    {
      "cell_type": "code",
      "source": [
        "# Filter the top 20 brands among the negative sentiments\n",
        "data[data['user_sentiment']==0].groupby('brand')['brand'].count().sort_values(ascending=False)[:20]"
      ],
      "metadata": {
        "colab": {
          "base_uri": "https://localhost:8080/"
        },
        "id": "O5ZjmbR9Vmvd",
        "outputId": "4e9c3d9a-df1d-4b80-bf45-65bc554ca940"
      },
      "execution_count": 207,
      "outputs": [
        {
          "output_type": "execute_result",
          "data": {
            "text/plain": [
              "brand\n",
              "Nexxus                        634\n",
              "Clear Scalp & Hair Therapy    192\n",
              "Warner Home Video             150\n",
              "Aveeno                        118\n",
              "L'oreal Paris                  76\n",
              "Windex                         65\n",
              "Clorox                         56\n",
              "FOX                            53\n",
              "Burt's Bees                    43\n",
              "Hoover                         40\n",
              "L'Oreal Paris                  36\n",
              "Just For Men                   28\n",
              "Storkcraft                     23\n",
              "Hormel                         21\n",
              "Warner Bros.                   20\n",
              "Universal Home Video           20\n",
              "Tostitos                       19\n",
              "Pendaflex                      18\n",
              "K-Y                            16\n",
              "Olay                           15\n",
              "Name: brand, dtype: int64"
            ]
          },
          "metadata": {},
          "execution_count": 207
        }
      ]
    },
    {
      "cell_type": "code",
      "source": [
        "# Visualize the top 20 brands among the negative sentiments\n",
        "plt.title('Brand Based Sentiment Analysis for negative sentiments')\n",
        "sns.set(rc={'figure.figsize':(11.7, 8.27)})\n",
        "brand_data_negative = data[data['user_sentiment'] == 0].groupby('brand')['brand'].count().sort_values(ascending=False)[:20]\n",
        "sns.barplot(x=brand_data_negative.index, y = brand_data_negative.values ,data= brand_data_negative, palette=\"rocket\")\n",
        "plt.ylabel('Count')\n",
        "plt.xlabel('Brands')\n",
        "plt.show()"
      ],
      "metadata": {
        "colab": {
          "base_uri": "https://localhost:8080/",
          "height": 533
        },
        "id": "Sb893F2wXdfn",
        "outputId": "c769234f-9cf8-41d1-c7ee-76b7b3fdef16"
      },
      "execution_count": 208,
      "outputs": [
        {
          "output_type": "display_data",
          "data": {
            "text/plain": [
              "<Figure size 842.4x595.44 with 1 Axes>"
            ],
            "image/png": "[encoded data removed]"
          },
          "metadata": {}
        }
      ]
    },
    {
      "cell_type": "code",
      "source": [
        "#group the dataframe by product id and view the positive review / negative reviews count\n",
        "data_summary =  data.groupby('id', as_index=False)['user_sentiment'].count()\n",
        "data_summary[\"positive_review_count\"] =  data_summary.id.apply(lambda id: data[(data.id==id) & (data.user_sentiment==1)]['brand'].count())\n",
        "data_summary[\"negative_review_count\"] =  data_summary.id.apply(lambda id: data[(data.id==id) & (data.user_sentiment==0)]['brand'].count())\n",
        "data_summary['sentiment_percent'] = np.round((data_summary['positive_review_count']/data_summary['user_sentiment'])*100,2)\n",
        "data_summary.head(20)"
      ],
      "metadata": {
        "colab": {
          "base_uri": "https://localhost:8080/",
          "height": 677
        },
        "id": "WrLj7JEpXguh",
        "outputId": "89c177c3-8866-4e5c-9518-800129c14501"
      },
      "execution_count": 209,
      "outputs": [
        {
          "output_type": "execute_result",
          "data": {
            "text/plain": [
              "                      id  user_sentiment  positive_review_count  \\\n",
              "0   AV13O1A8GV-KLJ3akUyj               1                      1   \n",
              "1   AV14LG0R-jtxr-f38QfS               2                      2   \n",
              "2   AV16khLE-jtxr-f38VFn              27                     11   \n",
              "3   AV1YGDqsGV-KLJ3adc-O             348                    283   \n",
              "4   AV1YIch7GV-KLJ3addeG               1                      1   \n",
              "5   AV1YlENIglJLPUi8IHsX              17                     14   \n",
              "6   AV1YmBrdGV-KLJ3adewb              18                     18   \n",
              "7   AV1YmDL9vKc47QAVgr7_              89                     78   \n",
              "8   AV1Ymf_rglJLPUi8II2v              34                     34   \n",
              "9   AV1Yn94nvKc47QAVgtst              25                     24   \n",
              "10  AV1YnUMYglJLPUi8IJpK               1                      1   \n",
              "11  AV1Ynb3bglJLPUi8IJxJ               5                      5   \n",
              "12  AV1YneDPglJLPUi8IJyQ              35                     34   \n",
              "13  AV1Yo6FPglJLPUi8IK3u               1                      1   \n",
              "14  AV1YpiJvvKc47QAVguxy               1                      1   \n",
              "15  AV1YqAaMGV-KLJ3adiDj              14                      9   \n",
              "16  AV1Ys0kTvKc47QAVgx1C              20                     20   \n",
              "17  AV1YtGjdglJLPUi8IOfJ              72                     65   \n",
              "18  AV1ZSp2uglJLPUi8IQFy               7                      7   \n",
              "19  AV1ZT7GLglJLPUi8IQLI              50                     35   \n",
              "\n",
              "    negative_review_count  sentiment_percent  \n",
              "0                       0             100.00  \n",
              "1                       0             100.00  \n",
              "2                      16              40.74  \n",
              "3                      65              81.32  \n",
              "4                       0             100.00  \n",
              "5                       3              82.35  \n",
              "6                       0             100.00  \n",
              "7                      11              87.64  \n",
              "8                       0             100.00  \n",
              "9                       1              96.00  \n",
              "10                      0             100.00  \n",
              "11                      0             100.00  \n",
              "12                      1              97.14  \n",
              "13                      0             100.00  \n",
              "14                      0             100.00  \n",
              "15                      5              64.29  \n",
              "16                      0             100.00  \n",
              "17                      7              90.28  \n",
              "18                      0             100.00  \n",
              "19                     15              70.00  "
            ],
            "text/html": [
              "\n",
              "  <div id=\"df-10ef53fd-5b18-47cf-bf13-925cb3289a55\">\n",
              "    <div class=\"colab-df-container\">\n",
              "      <div>\n",
              "<style scoped>\n",
              "    .dataframe tbody tr th:only-of-type {\n",
              "        vertical-align: middle;\n",
              "    }\n",
              "\n",
              "    .dataframe tbody tr th {\n",
              "        vertical-align: top;\n",
              "    }\n",
              "\n",
              "    .dataframe thead th {\n",
              "        text-align: right;\n",
              "    }\n",
              "</style>\n",
              "<table border=\"1\" class=\"dataframe\">\n",
              "  <thead>\n",
              "    <tr style=\"text-align: right;\">\n",
              "      <th></th>\n",
              "      <th>id</th>\n",
              "      <th>user_sentiment</th>\n",
              "      <th>positive_review_count</th>\n",
              "      <th>negative_review_count</th>\n",
              "      <th>sentiment_percent</th>\n",
              "    </tr>\n",
              "  </thead>\n",
              "  <tbody>\n",
              "    <tr>\n",
              "      <th>0</th>\n",
              "      <td>AV13O1A8GV-KLJ3akUyj</td>\n",
              "      <td>1</td>\n",
              "      <td>1</td>\n",
              "      <td>0</td>\n",
              "      <td>100.00</td>\n",
              "    </tr>\n",
              "    <tr>\n",
              "      <th>1</th>\n",
              "      <td>AV14LG0R-jtxr-f38QfS</td>\n",
              "      <td>2</td>\n",
              "      <td>2</td>\n",
              "      <td>0</td>\n",
              "      <td>100.00</td>\n",
              "    </tr>\n",
              "    <tr>\n",
              "      <th>2</th>\n",
              "      <td>AV16khLE-jtxr-f38VFn</td>\n",
              "      <td>27</td>\n",
              "      <td>11</td>\n",
              "      <td>16</td>\n",
              "      <td>40.74</td>\n",
              "    </tr>\n",
              "    <tr>\n",
              "      <th>3</th>\n",
              "      <td>AV1YGDqsGV-KLJ3adc-O</td>\n",
              "      <td>348</td>\n",
              "      <td>283</td>\n",
              "      <td>65</td>\n",
              "      <td>81.32</td>\n",
              "    </tr>\n",
              "    <tr>\n",
              "      <th>4</th>\n",
              "      <td>AV1YIch7GV-KLJ3addeG</td>\n",
              "      <td>1</td>\n",
              "      <td>1</td>\n",
              "      <td>0</td>\n",
              "      <td>100.00</td>\n",
              "    </tr>\n",
              "    <tr>\n",
              "      <th>5</th>\n",
              "      <td>AV1YlENIglJLPUi8IHsX</td>\n",
              "      <td>17</td>\n",
              "      <td>14</td>\n",
              "      <td>3</td>\n",
              "      <td>82.35</td>\n",
              "    </tr>\n",
              "    <tr>\n",
              "      <th>6</th>\n",
              "      <td>AV1YmBrdGV-KLJ3adewb</td>\n",
              "      <td>18</td>\n",
              "      <td>18</td>\n",
              "      <td>0</td>\n",
              "      <td>100.00</td>\n",
              "    </tr>\n",
              "    <tr>\n",
              "      <th>7</th>\n",
              "      <td>AV1YmDL9vKc47QAVgr7_</td>\n",
              "      <td>89</td>\n",
              "      <td>78</td>\n",
              "      <td>11</td>\n",
              "      <td>87.64</td>\n",
              "    </tr>\n",
              "    <tr>\n",
              "      <th>8</th>\n",
              "      <td>AV1Ymf_rglJLPUi8II2v</td>\n",
              "      <td>34</td>\n",
              "      <td>34</td>\n",
              "      <td>0</td>\n",
              "      <td>100.00</td>\n",
              "    </tr>\n",
              "    <tr>\n",
              "      <th>9</th>\n",
              "      <td>AV1Yn94nvKc47QAVgtst</td>\n",
              "      <td>25</td>\n",
              "      <td>24</td>\n",
              "      <td>1</td>\n",
              "      <td>96.00</td>\n",
              "    </tr>\n",
              "    <tr>\n",
              "      <th>10</th>\n",
              "      <td>AV1YnUMYglJLPUi8IJpK</td>\n",
              "      <td>1</td>\n",
              "      <td>1</td>\n",
              "      <td>0</td>\n",
              "      <td>100.00</td>\n",
              "    </tr>\n",
              "    <tr>\n",
              "      <th>11</th>\n",
              "      <td>AV1Ynb3bglJLPUi8IJxJ</td>\n",
              "      <td>5</td>\n",
              "      <td>5</td>\n",
              "      <td>0</td>\n",
              "      <td>100.00</td>\n",
              "    </tr>\n",
              "    <tr>\n",
              "      <th>12</th>\n",
              "      <td>AV1YneDPglJLPUi8IJyQ</td>\n",
              "      <td>35</td>\n",
              "      <td>34</td>\n",
              "      <td>1</td>\n",
              "      <td>97.14</td>\n",
              "    </tr>\n",
              "    <tr>\n",
              "      <th>13</th>\n",
              "      <td>AV1Yo6FPglJLPUi8IK3u</td>\n",
              "      <td>1</td>\n",
              "      <td>1</td>\n",
              "      <td>0</td>\n",
              "      <td>100.00</td>\n",
              "    </tr>\n",
              "    <tr>\n",
              "      <th>14</th>\n",
              "      <td>AV1YpiJvvKc47QAVguxy</td>\n",
              "      <td>1</td>\n",
              "      <td>1</td>\n",
              "      <td>0</td>\n",
              "      <td>100.00</td>\n",
              "    </tr>\n",
              "    <tr>\n",
              "      <th>15</th>\n",
              "      <td>AV1YqAaMGV-KLJ3adiDj</td>\n",
              "      <td>14</td>\n",
              "      <td>9</td>\n",
              "      <td>5</td>\n",
              "      <td>64.29</td>\n",
              "    </tr>\n",
              "    <tr>\n",
              "      <th>16</th>\n",
              "      <td>AV1Ys0kTvKc47QAVgx1C</td>\n",
              "      <td>20</td>\n",
              "      <td>20</td>\n",
              "      <td>0</td>\n",
              "      <td>100.00</td>\n",
              "    </tr>\n",
              "    <tr>\n",
              "      <th>17</th>\n",
              "      <td>AV1YtGjdglJLPUi8IOfJ</td>\n",
              "      <td>72</td>\n",
              "      <td>65</td>\n",
              "      <td>7</td>\n",
              "      <td>90.28</td>\n",
              "    </tr>\n",
              "    <tr>\n",
              "      <th>18</th>\n",
              "      <td>AV1ZSp2uglJLPUi8IQFy</td>\n",
              "      <td>7</td>\n",
              "      <td>7</td>\n",
              "      <td>0</td>\n",
              "      <td>100.00</td>\n",
              "    </tr>\n",
              "    <tr>\n",
              "      <th>19</th>\n",
              "      <td>AV1ZT7GLglJLPUi8IQLI</td>\n",
              "      <td>50</td>\n",
              "      <td>35</td>\n",
              "      <td>15</td>\n",
              "      <td>70.00</td>\n",
              "    </tr>\n",
              "  </tbody>\n",
              "</table>\n",
              "</div>\n",
              "      <button class=\"colab-df-convert\" onclick=\"convertToInteractive('df-10ef53fd-5b18-47cf-bf13-925cb3289a55')\"\n",
              "              title=\"Convert this dataframe to an interactive table.\"\n",
              "              style=\"display:none;\">\n",
              "        \n",
              "  <svg xmlns=\"http://www.w3.org/2000/svg\" height=\"24px\"viewBox=\"0 0 24 24\"\n",
              "       width=\"24px\">\n",
              "    <path d=\"M0 0h24v24H0V0z\" fill=\"none\"/>\n",
              "    <path d=\"M18.56 5.44l.94 2.06.94-2.06 2.06-.94-2.06-.94-.94-2.06-.94 2.06-2.06.94zm-11 1L8.5 8.5l.94-2.06 2.06-.94-2.06-.94L8.5 2.5l-.94 2.06-2.06.94zm10 10l.94 2.06.94-2.06 2.06-.94-2.06-.94-.94-2.06-.94 2.06-2.06.94z\"/><path d=\"M17.41 7.96l-1.37-1.37c-.4-.4-.92-.59-1.43-.59-.52 0-1.04.2-1.43.59L10.3 9.45l-7.72 7.72c-.78.78-.78 2.05 0 2.83L4 21.41c.39.39.9.59 1.41.59.51 0 1.02-.2 1.41-.59l7.78-7.78 2.81-2.81c.8-.78.8-2.07 0-2.86zM5.41 20L4 18.59l7.72-7.72 1.47 1.35L5.41 20z\"/>\n",
              "  </svg>\n",
              "      </button>\n",
              "      \n",
              "  <style>\n",
              "    .colab-df-container {\n",
              "      display:flex;\n",
              "      flex-wrap:wrap;\n",
              "      gap: 12px;\n",
              "    }\n",
              "\n",
              "    .colab-df-convert {\n",
              "      background-color: #E8F0FE;\n",
              "      border: none;\n",
              "      border-radius: 50%;\n",
              "      cursor: pointer;\n",
              "      display: none;\n",
              "      fill: #1967D2;\n",
              "      height: 32px;\n",
              "      padding: 0 0 0 0;\n",
              "      width: 32px;\n",
              "    }\n",
              "\n",
              "    .colab-df-convert:hover {\n",
              "      background-color: #E2EBFA;\n",
              "      box-shadow: 0px 1px 2px rgba(60, 64, 67, 0.3), 0px 1px 3px 1px rgba(60, 64, 67, 0.15);\n",
              "      fill: #174EA6;\n",
              "    }\n",
              "\n",
              "    [theme=dark] .colab-df-convert {\n",
              "      background-color: #3B4455;\n",
              "      fill: #D2E3FC;\n",
              "    }\n",
              "\n",
              "    [theme=dark] .colab-df-convert:hover {\n",
              "      background-color: #434B5C;\n",
              "      box-shadow: 0px 1px 3px 1px rgba(0, 0, 0, 0.15);\n",
              "      filter: drop-shadow(0px 1px 2px rgba(0, 0, 0, 0.3));\n",
              "      fill: #FFFFFF;\n",
              "    }\n",
              "  </style>\n",
              "\n",
              "      <script>\n",
              "        const buttonEl =\n",
              "          document.querySelector('#df-10ef53fd-5b18-47cf-bf13-925cb3289a55 button.colab-df-convert');\n",
              "        buttonEl.style.display =\n",
              "          google.colab.kernel.accessAllowed ? 'block' : 'none';\n",
              "\n",
              "        async function convertToInteractive(key) {\n",
              "          const element = document.querySelector('#df-10ef53fd-5b18-47cf-bf13-925cb3289a55');\n",
              "          const dataTable =\n",
              "            await google.colab.kernel.invokeFunction('convertToInteractive',\n",
              "                                                     [key], {});\n",
              "          if (!dataTable) return;\n",
              "\n",
              "          const docLinkHtml = 'Like what you see? Visit the ' +\n",
              "            '<a target=\"_blank\" href=https://colab.research.google.com/notebooks/data_table.ipynb>data table notebook</a>'\n",
              "            + ' to learn more about interactive tables.';\n",
              "          element.innerHTML = '';\n",
              "          dataTable['output_type'] = 'display_data';\n",
              "          await google.colab.output.renderOutput(dataTable, element);\n",
              "          const docLink = document.createElement('div');\n",
              "          docLink.innerHTML = docLinkHtml;\n",
              "          element.appendChild(docLink);\n",
              "        }\n",
              "      </script>\n",
              "    </div>\n",
              "  </div>\n",
              "  "
            ]
          },
          "metadata": {},
          "execution_count": 209
        }
      ]
    },
    {
      "cell_type": "code",
      "source": [
        "# Text Preprocessing for Modelling"
      ],
      "metadata": {
        "id": "eHo4Ce_YX_x7"
      },
      "execution_count": 210,
      "outputs": []
    },
    {
      "cell_type": "code",
      "source": [
        "# Checking reviews and user sentiment values\n",
        "data[[\"reviews_text\", \"user_sentiment\"]].sample(30)"
      ],
      "metadata": {
        "colab": {
          "base_uri": "https://localhost:8080/",
          "height": 1000
        },
        "id": "3FIrydRZbQ-I",
        "outputId": "0672f7ba-6522-4a1c-d505-fe77cf0b1c88"
      },
      "execution_count": 211,
      "outputs": [
        {
          "output_type": "execute_result",
          "data": {
            "text/plain": [
              "                                                                                                                                                                                                                                                                                                                                                                                                                                                                                reviews_text  \\\n",
              "7179                                                                                                                                                                                                                                                                                                                                     Great easy cleaning item..use it to wipe down the litter box and it helps keep it smelling fresh. This review was collected as part of a promotion.   \n",
              "13193                                                                                                                                                                                                                                                           love the wipes, they are quick and easy and great for the car, school and home. I also use them at my work office for wiping up my phone, computer and desk to risk germs. This review was collected as part of a promotion.   \n",
              "23375                                                                                                                                                                                                                                                                                                                                                                                                                            Love the 3D effects and sound. Awesome on the big screen :)   \n",
              "28484                                                                                                                                                                                                                                                                                                                                 Chair was easy to assemble and it surprisingly comfortable however ottoman came totally broken and its not easy getting a replacement from the factory   \n",
              "17485                                                                                                                                                                                                                                                                                    I like the product because it yields a very natural looking result. I have used it at least half a dozen times and I have been very impressed with the outcome. I do highly recommend this product.   \n",
              "7901                                                                                                                                                                                                                                                                                                                                                                                 I love to have these around to clean up quick messes. This review was collected as part of a promotion.   \n",
              "21554  So disappointed in the new formula. It gives my fine and body less hair no hold and leaves my hair filmy and flat. This product no longer works well when using a curling or flat iron. I want the old formula back. Why change a product that has worked great for years. So disappointed I bought two tubes of this as I didn't ever want to run out of the original product. I will be looking for something else. Please email me if you change the formula back to the original.   \n",
              "28157                                                                                                                                                                                                                                                                                                                                    Cute movie, great addition to Cars, Cars 2, etc! 2 year old grandson loves anything to, do with cars, boats, planes, construction sites and trucks!   \n",
              "19605                                                                                                                                                                                                                                                                                                                                                I love the ease of use and effectiveness of the Clorox wipes, they are easy to use on all surfaces and I know it leaves my house clean.   \n",
              "3072                                                                                                                                                                                                                                                                                                                                                                                                                THIS MOVIE JUST NEEDED TO NEVER STOP AND ADDED SO MUCH FROM THE ORIGINAL   \n",
              "18710                                                                                                                                                                                                                                                                                                        These wipes are wet enough without being too wet, smell good, and clean very well. I only wish they had a tiny bit more texture for grabbing dust and particles on my counters.   \n",
              "607                                                                                                                                                                                                                                                                                                                                                                                     Doesn't feel cheap and is a good price. Feels nice on the skin and has a good finish. Great product.   \n",
              "1410                                                                                                                                                                                                                                           They took it off the shelves and now I can not find it anywhere. It was the only brand that was working on my hair. Please put it back on the shelves. My hair really needs it. Suave shampoo/conditioner dry or frizzy ///////////no keratin   \n",
              "19372                                                                                                                                                                                                                                                                                                                                                                        I feel as though the area in my bathroom or kitchen where I use these wipes are extremely clean when I finish .   \n",
              "21383                                                                  I have used Nexxus Exxtra Gel for years and have loved its ability to hold my hair in place. But the formula for the gel recently changed and it is more like water now than gel. I can't believe that they call it Exxtra hold, because it barely holds my hair in place and I need to use a lot of it. I hope someone reads this and pays attention. If something doesn't change I will not be using it any longer.   \n",
              "14424                                                                                                                                                                                                                                                                                                                                                       I can trust this product to disinfect and clean while making it so easy on me! This review was collected as part of a promotion.   \n",
              "540                                                                                                                                                                                                                                          I have been using this product for a number of years. I have tried other products but always come back to this for its results! Keeps my skin hydrated. Use it for night and day moisturizer. This review was collected as part of a promotion.   \n",
              "23928                                                                                                                                                                                                                                                                                                                                                                                    I was very impressed with the overall quality of the film. Just wish it had a little more Godzilla.   \n",
              "16327                                                                                                                                                                                                                     I've been looking in all the stores for Nutmeg Lip Simmer unsuccessfully, and so I came to your site today. I'm so sad to see you don't carry it anymore. PLEASE start carrying it again! I join with the others that love it and can't find a replacement for it!   \n",
              "1926                                                                                                                                                                                                                                                                                                                                                                                                               Was absolutely surprised by this movie. All the characters are excellent.   \n",
              "24390                                                                                                                                                                                                                                                                                                                                 Don't most people love a good Godzilla movie? This was MUCH better than the 1990s version, completely different story with up to date special effects.   \n",
              "7572                                                                                                                                                                                                                                                                         I love using clorox products They get the job done quickly. Between my two young kids and my fiance and his friends that are mechanics, clorox saves the day. This review was collected as part of a promotion.   \n",
              "133                                                                                                                                                        I'm a 52 year old with dry skin and really need a cream that can hydrate me. when i use this cream i actually feel like me skin is saying Ahhhh. i'm really glad i found the whole Regenerist line. The older i get the more i find i need more and more hydration so Thank you This review was collected as part of a promotion.   \n",
              "1949                                                                                                                                                                                                                                                                                                                                                                                                                         Enjoyed watching this movie, very entertaining for young adults   \n",
              "12476                                                                                                                                                                                                                                                                                                                                                                       I use the wipes everyday to wipe out the sink and counter tops This review was collected as part of a promotion.   \n",
              "3463                                                                                                                                                                                                                                                   So far I am very pleased with the way my hair is behaving. It feels fuller, it manages better, and I do see and feel a difference. I am so glad I gave it a try an do plan to stick with it for a while to see if it works long term.   \n",
              "5376                                                                                                                                                                                                                                                                                                                                                                                                                         There are little on the dry side but it's up to you to try them   \n",
              "12248                                                                                                                                                                                                                                                                                                                                                                         these are great for every day use - can't live without them! This review was collected as part of a promotion.   \n",
              "18704                                                                                                                                                                                                                                                                                        Great product that has the clearning power of clorox with no bleach. Easy clean up for everything. Doesn't clean quite as good as clorox clean up and paper towels but it is soooo much easier!   \n",
              "26294                                                                                                                                                                                                                                                                                                                                                                                                                super fun throwback movie from when the voice of ultron was still a kid   \n",
              "\n",
              "       user_sentiment  \n",
              "7179                1  \n",
              "13193               1  \n",
              "23375               1  \n",
              "28484               1  \n",
              "17485               1  \n",
              "7901                1  \n",
              "21554               0  \n",
              "28157               1  \n",
              "19605               1  \n",
              "3072                1  \n",
              "18710               1  \n",
              "607                 1  \n",
              "1410                1  \n",
              "19372               1  \n",
              "21383               0  \n",
              "14424               1  \n",
              "540                 1  \n",
              "23928               1  \n",
              "16327               1  \n",
              "1926                1  \n",
              "24390               1  \n",
              "7572                1  \n",
              "133                 1  \n",
              "1949                1  \n",
              "12476               1  \n",
              "3463                1  \n",
              "5376                0  \n",
              "12248               1  \n",
              "18704               1  \n",
              "26294               1  "
            ],
            "text/html": [
              "\n",
              "  <div id=\"df-ae94f38f-eb9d-4f6a-b1fe-fa7a110031c5\">\n",
              "    <div class=\"colab-df-container\">\n",
              "      <div>\n",
              "<style scoped>\n",
              "    .dataframe tbody tr th:only-of-type {\n",
              "        vertical-align: middle;\n",
              "    }\n",
              "\n",
              "    .dataframe tbody tr th {\n",
              "        vertical-align: top;\n",
              "    }\n",
              "\n",
              "    .dataframe thead th {\n",
              "        text-align: right;\n",
              "    }\n",
              "</style>\n",
              "<table border=\"1\" class=\"dataframe\">\n",
              "  <thead>\n",
              "    <tr style=\"text-align: right;\">\n",
              "      <th></th>\n",
              "      <th>reviews_text</th>\n",
              "      <th>user_sentiment</th>\n",
              "    </tr>\n",
              "  </thead>\n",
              "  <tbody>\n",
              "    <tr>\n",
              "      <th>7179</th>\n",
              "      <td>Great easy cleaning item..use it to wipe down the litter box and it helps keep it smelling fresh. This review was collected as part of a promotion.</td>\n",
              "      <td>1</td>\n",
              "    </tr>\n",
              "    <tr>\n",
              "      <th>13193</th>\n",
              "      <td>love the wipes, they are quick and easy and great for the car, school and home. I also use them at my work office for wiping up my phone, computer and desk to risk germs. This review was collected as part of a promotion.</td>\n",
              "      <td>1</td>\n",
              "    </tr>\n",
              "    <tr>\n",
              "      <th>23375</th>\n",
              "      <td>Love the 3D effects and sound. Awesome on the big screen :)</td>\n",
              "      <td>1</td>\n",
              "    </tr>\n",
              "    <tr>\n",
              "      <th>28484</th>\n",
              "      <td>Chair was easy to assemble and it surprisingly comfortable however ottoman came totally broken and its not easy getting a replacement from the factory</td>\n",
              "      <td>1</td>\n",
              "    </tr>\n",
              "    <tr>\n",
              "      <th>17485</th>\n",
              "      <td>I like the product because it yields a very natural looking result. I have used it at least half a dozen times and I have been very impressed with the outcome. I do highly recommend this product.</td>\n",
              "      <td>1</td>\n",
              "    </tr>\n",
              "    <tr>\n",
              "      <th>7901</th>\n",
              "      <td>I love to have these around to clean up quick messes. This review was collected as part of a promotion.</td>\n",
              "      <td>1</td>\n",
              "    </tr>\n",
              "    <tr>\n",
              "      <th>21554</th>\n",
              "      <td>So disappointed in the new formula. It gives my fine and body less hair no hold and leaves my hair filmy and flat. This product no longer works well when using a curling or flat iron. I want the old formula back. Why change a product that has worked great for years. So disappointed I bought two tubes of this as I didn't ever want to run out of the original product. I will be looking for something else. Please email me if you change the formula back to the original.</td>\n",
              "      <td>0</td>\n",
              "    </tr>\n",
              "    <tr>\n",
              "      <th>28157</th>\n",
              "      <td>Cute movie, great addition to Cars, Cars 2, etc! 2 year old grandson loves anything to, do with cars, boats, planes, construction sites and trucks!</td>\n",
              "      <td>1</td>\n",
              "    </tr>\n",
              "    <tr>\n",
              "      <th>19605</th>\n",
              "      <td>I love the ease of use and effectiveness of the Clorox wipes, they are easy to use on all surfaces and I know it leaves my house clean.</td>\n",
              "      <td>1</td>\n",
              "    </tr>\n",
              "    <tr>\n",
              "      <th>3072</th>\n",
              "      <td>THIS MOVIE JUST NEEDED TO NEVER STOP AND ADDED SO MUCH FROM THE ORIGINAL</td>\n",
              "      <td>1</td>\n",
              "    </tr>\n",
              "    <tr>\n",
              "      <th>18710</th>\n",
              "      <td>These wipes are wet enough without being too wet, smell good, and clean very well. I only wish they had a tiny bit more texture for grabbing dust and particles on my counters.</td>\n",
              "      <td>1</td>\n",
              "    </tr>\n",
              "    <tr>\n",
              "      <th>607</th>\n",
              "      <td>Doesn't feel cheap and is a good price. Feels nice on the skin and has a good finish. Great product.</td>\n",
              "      <td>1</td>\n",
              "    </tr>\n",
              "    <tr>\n",
              "      <th>1410</th>\n",
              "      <td>They took it off the shelves and now I can not find it anywhere. It was the only brand that was working on my hair. Please put it back on the shelves. My hair really needs it. Suave shampoo/conditioner dry or frizzy ///////////no keratin</td>\n",
              "      <td>1</td>\n",
              "    </tr>\n",
              "    <tr>\n",
              "      <th>19372</th>\n",
              "      <td>I feel as though the area in my bathroom or kitchen where I use these wipes are extremely clean when I finish .</td>\n",
              "      <td>1</td>\n",
              "    </tr>\n",
              "    <tr>\n",
              "      <th>21383</th>\n",
              "      <td>I have used Nexxus Exxtra Gel for years and have loved its ability to hold my hair in place. But the formula for the gel recently changed and it is more like water now than gel. I can't believe that they call it Exxtra hold, because it barely holds my hair in place and I need to use a lot of it. I hope someone reads this and pays attention. If something doesn't change I will not be using it any longer.</td>\n",
              "      <td>0</td>\n",
              "    </tr>\n",
              "    <tr>\n",
              "      <th>14424</th>\n",
              "      <td>I can trust this product to disinfect and clean while making it so easy on me! This review was collected as part of a promotion.</td>\n",
              "      <td>1</td>\n",
              "    </tr>\n",
              "    <tr>\n",
              "      <th>540</th>\n",
              "      <td>I have been using this product for a number of years. I have tried other products but always come back to this for its results! Keeps my skin hydrated. Use it for night and day moisturizer. This review was collected as part of a promotion.</td>\n",
              "      <td>1</td>\n",
              "    </tr>\n",
              "    <tr>\n",
              "      <th>23928</th>\n",
              "      <td>I was very impressed with the overall quality of the film. Just wish it had a little more Godzilla.</td>\n",
              "      <td>1</td>\n",
              "    </tr>\n",
              "    <tr>\n",
              "      <th>16327</th>\n",
              "      <td>I've been looking in all the stores for Nutmeg Lip Simmer unsuccessfully, and so I came to your site today. I'm so sad to see you don't carry it anymore. PLEASE start carrying it again! I join with the others that love it and can't find a replacement for it!</td>\n",
              "      <td>1</td>\n",
              "    </tr>\n",
              "    <tr>\n",
              "      <th>1926</th>\n",
              "      <td>Was absolutely surprised by this movie. All the characters are excellent.</td>\n",
              "      <td>1</td>\n",
              "    </tr>\n",
              "    <tr>\n",
              "      <th>24390</th>\n",
              "      <td>Don't most people love a good Godzilla movie? This was MUCH better than the 1990s version, completely different story with up to date special effects.</td>\n",
              "      <td>1</td>\n",
              "    </tr>\n",
              "    <tr>\n",
              "      <th>7572</th>\n",
              "      <td>I love using clorox products They get the job done quickly. Between my two young kids and my fiance and his friends that are mechanics, clorox saves the day. This review was collected as part of a promotion.</td>\n",
              "      <td>1</td>\n",
              "    </tr>\n",
              "    <tr>\n",
              "      <th>133</th>\n",
              "      <td>I'm a 52 year old with dry skin and really need a cream that can hydrate me. when i use this cream i actually feel like me skin is saying Ahhhh. i'm really glad i found the whole Regenerist line. The older i get the more i find i need more and more hydration so Thank you This review was collected as part of a promotion.</td>\n",
              "      <td>1</td>\n",
              "    </tr>\n",
              "    <tr>\n",
              "      <th>1949</th>\n",
              "      <td>Enjoyed watching this movie, very entertaining for young adults</td>\n",
              "      <td>1</td>\n",
              "    </tr>\n",
              "    <tr>\n",
              "      <th>12476</th>\n",
              "      <td>I use the wipes everyday to wipe out the sink and counter tops This review was collected as part of a promotion.</td>\n",
              "      <td>1</td>\n",
              "    </tr>\n",
              "    <tr>\n",
              "      <th>3463</th>\n",
              "      <td>So far I am very pleased with the way my hair is behaving. It feels fuller, it manages better, and I do see and feel a difference. I am so glad I gave it a try an do plan to stick with it for a while to see if it works long term.</td>\n",
              "      <td>1</td>\n",
              "    </tr>\n",
              "    <tr>\n",
              "      <th>5376</th>\n",
              "      <td>There are little on the dry side but it's up to you to try them</td>\n",
              "      <td>0</td>\n",
              "    </tr>\n",
              "    <tr>\n",
              "      <th>12248</th>\n",
              "      <td>these are great for every day use - can't live without them! This review was collected as part of a promotion.</td>\n",
              "      <td>1</td>\n",
              "    </tr>\n",
              "    <tr>\n",
              "      <th>18704</th>\n",
              "      <td>Great product that has the clearning power of clorox with no bleach. Easy clean up for everything. Doesn't clean quite as good as clorox clean up and paper towels but it is soooo much easier!</td>\n",
              "      <td>1</td>\n",
              "    </tr>\n",
              "    <tr>\n",
              "      <th>26294</th>\n",
              "      <td>super fun throwback movie from when the voice of ultron was still a kid</td>\n",
              "      <td>1</td>\n",
              "    </tr>\n",
              "  </tbody>\n",
              "</table>\n",
              "</div>\n",
              "      <button class=\"colab-df-convert\" onclick=\"convertToInteractive('df-ae94f38f-eb9d-4f6a-b1fe-fa7a110031c5')\"\n",
              "              title=\"Convert this dataframe to an interactive table.\"\n",
              "              style=\"display:none;\">\n",
              "        \n",
              "  <svg xmlns=\"http://www.w3.org/2000/svg\" height=\"24px\"viewBox=\"0 0 24 24\"\n",
              "       width=\"24px\">\n",
              "    <path d=\"M0 0h24v24H0V0z\" fill=\"none\"/>\n",
              "    <path d=\"M18.56 5.44l.94 2.06.94-2.06 2.06-.94-2.06-.94-.94-2.06-.94 2.06-2.06.94zm-11 1L8.5 8.5l.94-2.06 2.06-.94-2.06-.94L8.5 2.5l-.94 2.06-2.06.94zm10 10l.94 2.06.94-2.06 2.06-.94-2.06-.94-.94-2.06-.94 2.06-2.06.94z\"/><path d=\"M17.41 7.96l-1.37-1.37c-.4-.4-.92-.59-1.43-.59-.52 0-1.04.2-1.43.59L10.3 9.45l-7.72 7.72c-.78.78-.78 2.05 0 2.83L4 21.41c.39.39.9.59 1.41.59.51 0 1.02-.2 1.41-.59l7.78-7.78 2.81-2.81c.8-.78.8-2.07 0-2.86zM5.41 20L4 18.59l7.72-7.72 1.47 1.35L5.41 20z\"/>\n",
              "  </svg>\n",
              "      </button>\n",
              "      \n",
              "  <style>\n",
              "    .colab-df-container {\n",
              "      display:flex;\n",
              "      flex-wrap:wrap;\n",
              "      gap: 12px;\n",
              "    }\n",
              "\n",
              "    .colab-df-convert {\n",
              "      background-color: #E8F0FE;\n",
              "      border: none;\n",
              "      border-radius: 50%;\n",
              "      cursor: pointer;\n",
              "      display: none;\n",
              "      fill: #1967D2;\n",
              "      height: 32px;\n",
              "      padding: 0 0 0 0;\n",
              "      width: 32px;\n",
              "    }\n",
              "\n",
              "    .colab-df-convert:hover {\n",
              "      background-color: #E2EBFA;\n",
              "      box-shadow: 0px 1px 2px rgba(60, 64, 67, 0.3), 0px 1px 3px 1px rgba(60, 64, 67, 0.15);\n",
              "      fill: #174EA6;\n",
              "    }\n",
              "\n",
              "    [theme=dark] .colab-df-convert {\n",
              "      background-color: #3B4455;\n",
              "      fill: #D2E3FC;\n",
              "    }\n",
              "\n",
              "    [theme=dark] .colab-df-convert:hover {\n",
              "      background-color: #434B5C;\n",
              "      box-shadow: 0px 1px 3px 1px rgba(0, 0, 0, 0.15);\n",
              "      filter: drop-shadow(0px 1px 2px rgba(0, 0, 0, 0.3));\n",
              "      fill: #FFFFFF;\n",
              "    }\n",
              "  </style>\n",
              "\n",
              "      <script>\n",
              "        const buttonEl =\n",
              "          document.querySelector('#df-ae94f38f-eb9d-4f6a-b1fe-fa7a110031c5 button.colab-df-convert');\n",
              "        buttonEl.style.display =\n",
              "          google.colab.kernel.accessAllowed ? 'block' : 'none';\n",
              "\n",
              "        async function convertToInteractive(key) {\n",
              "          const element = document.querySelector('#df-ae94f38f-eb9d-4f6a-b1fe-fa7a110031c5');\n",
              "          const dataTable =\n",
              "            await google.colab.kernel.invokeFunction('convertToInteractive',\n",
              "                                                     [key], {});\n",
              "          if (!dataTable) return;\n",
              "\n",
              "          const docLinkHtml = 'Like what you see? Visit the ' +\n",
              "            '<a target=\"_blank\" href=https://colab.research.google.com/notebooks/data_table.ipynb>data table notebook</a>'\n",
              "            + ' to learn more about interactive tables.';\n",
              "          element.innerHTML = '';\n",
              "          dataTable['output_type'] = 'display_data';\n",
              "          await google.colab.output.renderOutput(dataTable, element);\n",
              "          const docLink = document.createElement('div');\n",
              "          docLink.innerHTML = docLinkHtml;\n",
              "          element.appendChild(docLink);\n",
              "        }\n",
              "      </script>\n",
              "    </div>\n",
              "  </div>\n",
              "  "
            ]
          },
          "metadata": {},
          "execution_count": 211
        }
      ]
    },
    {
      "cell_type": "code",
      "source": [
        "# Inialisation of various methods\n",
        "lemmatizer = WordNetLemmatizer()\n",
        "stop_words = set(stopwords.words('english'))"
      ],
      "metadata": {
        "id": "y9KBgh_Dyof2"
      },
      "execution_count": 212,
      "outputs": []
    },
    {
      "cell_type": "code",
      "source": [
        "# Functions to perform various text pre processing steps\n",
        "def get_wordnet_pos(tag):\n",
        "    if tag.startswith('J'):\n",
        "        return wordnet.ADJ\n",
        "    elif tag.startswith('V'):\n",
        "        return wordnet.VERB\n",
        "    elif tag.startswith('N'):\n",
        "        return wordnet.NOUN\n",
        "    elif tag.startswith('R'):\n",
        "        return wordnet.ADV\n",
        "    else:\n",
        "        return wordnet.NOUN\n",
        "\n",
        "def lemmatize_text(text):\n",
        "  word_pos_tags = nltk.pos_tag(word_tokenize(text))\n",
        "  words =[lemmatizer.lemmatize(tag[0], get_wordnet_pos(tag[1])) for idx, tag in enumerate(word_pos_tags)] \n",
        "  return \" \".join(words)\n",
        "\n",
        "def pre_process_text(text_data):\n",
        "    # Convert string to lowercase\n",
        "    text_data = text_data.lower()\n",
        "\n",
        "    # Strip all the extra spaces in the beginning and at the end of the string\n",
        "    text_data = text_data.strip()\n",
        "\n",
        "    # Remove all extra spaces from between words\n",
        "    text_data = re.sub(\"\\[\\s*\\w*\\s*\\]\", \"\", text_data)\n",
        "\n",
        "    # Remove punctuations\n",
        "    dictionary = \"abc\".maketrans('', '', string.punctuation)\n",
        "    text_data = text_data.translate(dictionary)\n",
        "    text_data = re.sub(\"\\S*\\d\\S*\", \"\", text_data)\n",
        "    \n",
        "    # Removal of stopwords\n",
        "    words = [word for word in text_data.split() if word.isalpha() and word not in stop_words]\n",
        "    text_data = \" \".join(words)\n",
        "\n",
        "    # Text lemmatization\n",
        "    text_data = lemmatize_text(text_data)\n",
        "    return text_data"
      ],
      "metadata": {
        "id": "x7VyUoLTqSu0"
      },
      "execution_count": 213,
      "outputs": []
    },
    {
      "cell_type": "code",
      "source": [
        "# Cleaning the data using various pre-processing steps \n",
        "clean_data = data[['id','name', 'reviews_text', 'user_sentiment']]\n",
        "clean_data[\"reviews_cleaned_text\"] = clean_data.reviews_text.apply(lambda text: pre_process_text(text))"
      ],
      "metadata": {
        "id": "uHUWLizQrFoT"
      },
      "execution_count": null,
      "outputs": []
    },
    {
      "cell_type": "code",
      "source": [
        "# Checking the cleaned data\n",
        "clean_data.head()"
      ],
      "metadata": {
        "id": "vsoCZxwNrYBq"
      },
      "execution_count": null,
      "outputs": []
    },
    {
      "cell_type": "code",
      "source": [
        "#Using a word cloud to find the words by frequency among all the articles after processing the text\n",
        "wordcloud = WordCloud(stopwords=stop_words, max_words=200,  background_color=\"white\", max_font_size=50).generate(str(clean_data.reviews_cleaned_text))\n",
        "print(wordcloud)\n",
        "plt.figure(figsize= (10, 10))\n",
        "plt.imshow(wordcloud, interpolation=\"bilinear\")\n",
        "plt.axis('off')\n",
        "plt.show();"
      ],
      "metadata": {
        "id": "6vrPqkBavzBT"
      },
      "execution_count": null,
      "outputs": []
    },
    {
      "cell_type": "code",
      "source": [
        "# Splitting the data and the target variable into X and y variables respectively\n",
        "X = clean_data.reviews_cleaned_text\n",
        "y = clean_data.user_sentiment"
      ],
      "metadata": {
        "id": "kNmRFqjoy3-U"
      },
      "execution_count": null,
      "outputs": []
    },
    {
      "cell_type": "code",
      "source": [
        "# Feature Extraction"
      ],
      "metadata": {
        "id": "DkcS2et8z-XQ"
      },
      "execution_count": null,
      "outputs": []
    },
    {
      "cell_type": "code",
      "source": [
        "# Counting the number of the unique values present in the target column\n",
        "no_of_classes= len(pd.Series(y).value_counts())"
      ],
      "metadata": {
        "id": "ecSHvf0IDrYp"
      },
      "execution_count": null,
      "outputs": []
    },
    {
      "cell_type": "code",
      "source": [
        "#Distribution of the target variable data in terms of proportions.\n",
        "for i in range(0,no_of_classes):\n",
        "    print(\"Percent of {0}s: \".format(i), round(100*pd.Series(y).value_counts()[i]/pd.Series(y).value_counts().sum(),2), \"%\")"
      ],
      "metadata": {
        "id": "XjR2XO0UDvWa"
      },
      "execution_count": null,
      "outputs": []
    },
    {
      "cell_type": "markdown",
      "source": [],
      "metadata": {
        "id": "dZTWAjBDDpxn"
      }
    },
    {
      "cell_type": "code",
      "source": [
        "# Making Bag of words model\n",
        "bow = {}\n",
        "for value in X:\n",
        "    words = nltk.word_tokenize(value)\n",
        "    for word in words:\n",
        "        if word not in bow.keys():\n",
        "            bow[word] = 1\n",
        "        else:\n",
        "            bow[word] += 1\n",
        "# Sorting the bag of words model in descending order\n",
        "sorted_bow = sorted(bow.items(), key=lambda x: x[1], reverse=True)"
      ],
      "metadata": {
        "id": "LYjK_p_40A4P"
      },
      "execution_count": null,
      "outputs": []
    },
    {
      "cell_type": "code",
      "source": [
        "# Checking the sorted bag of words model\n",
        "sorted_bow"
      ],
      "metadata": {
        "id": "d59EzHbpTg-G"
      },
      "execution_count": null,
      "outputs": []
    },
    {
      "cell_type": "code",
      "source": [
        "# calculating tf-idf values\n",
        "tfidf_model = TfidfVectorizer(stop_words='english', max_features=700, max_df=0.9, min_df=7, binary=True, ngram_range=(1,2))\n",
        "\n",
        "# Storing the tf-idf result for X in X_train_tfidf\n",
        "X_train_tfidf = tfidf_model.fit_transform(X)"
      ],
      "metadata": {
        "id": "rwGVTHwyTQXF"
      },
      "execution_count": null,
      "outputs": []
    },
    {
      "cell_type": "code",
      "source": [
        "# splitting into test and train\n",
        "X_train, X_test, y_train, y_test = train_test_split(X_train_tfidf, y, random_state=42, test_size=0.25)"
      ],
      "metadata": {
        "id": "bOMNdS2rUo-x"
      },
      "execution_count": null,
      "outputs": []
    },
    {
      "cell_type": "code",
      "source": [
        "# Handling class imbalance using SMOTE"
      ],
      "metadata": {
        "id": "pFyjYXmECRHV"
      },
      "execution_count": null,
      "outputs": []
    },
    {
      "cell_type": "code",
      "source": [
        "counter = Counter(y_train)\n",
        "print('Before : ',counter)\n",
        "smote = SMOTE()\n",
        "# transform the dataset\n",
        "X_train, y_train = smote.fit_resample(X_train, y_train)\n",
        "counter = Counter(y_train)\n",
        "print('After : ',counter)"
      ],
      "metadata": {
        "id": "9mculBeOUaSj"
      },
      "execution_count": null,
      "outputs": []
    },
    {
      "cell_type": "code",
      "source": [
        "# Creating model builder class and various functions required for the same so as avoid code replication\n",
        "class ModelBuilder:\n",
        "    def __init__(self, model, X_train, X_test, y_train, y_test):\n",
        "        self.model = model\n",
        "        self.X_train = X_train\n",
        "        self.X_test = X_test\n",
        "        self.y_train = y_train\n",
        "        self.y_test = y_test\n",
        "        \n",
        "    def train_model(self):\n",
        "        self.model.fit(self.X_train,self.y_train)\n",
        "        return self.model.predict(self.X_test)\n",
        "    \n",
        "    def evaluate_model(self, y_pred_class):\n",
        "        print(\"\\n\")\n",
        "        print(\"*\"*50)\n",
        "        self.result = self.evaluate_scores(y_pred_class)\n",
        "        print(\"*\"*50)\n",
        "        print(\"\\n\")\n",
        "        self.classification_report(y_pred_class)\n",
        "        print(\"*\"*50)\n",
        "        print(\"\\n\")\n",
        "        self.confusion_matrix(y_pred_class)\n",
        "        print(\"*\"*50)\n",
        "        print(\"\\n\")\n",
        "        metrics.plot_roc_curve(self.model, self.X_test, self.y_test)\n",
        "        return self.result\n",
        "        \n",
        "    def evaluate_scores(self, y_pred_class):\n",
        "        result_arr = [] \n",
        "        accuracy = metrics.accuracy_score(self.y_test, y_pred_class)\n",
        "        precision = metrics.precision_score(self.y_test, y_pred_class)\n",
        "        recall = metrics.recall_score(self.y_test, y_pred_class)\n",
        "        f1score = metrics.f1_score(self.y_test, y_pred_class)\n",
        "        y_pred_prob = self.model.predict_proba(self.X_test)[:,1]\n",
        "        roc_auc = metrics.roc_auc_score(self.y_test, y_pred_prob)\n",
        "        print(f\"Accuracy = {accuracy*100:.1f}%\")\n",
        "        print(f\"Precision = {precision*100:.1f}%\")\n",
        "        print(f\"Recall = {recall*100:.1f}%\")\n",
        "        print(f\"F1 Score = {f1score*100:.1f}%\")\n",
        "        print(f\"Roc-Auc Score is = {roc_auc*100:.1f}%\")\n",
        "        result_arr.append(accuracy)\n",
        "        result_arr.append(precision)\n",
        "        result_arr.append(recall)\n",
        "        result_arr.append(f1score)\n",
        "        result_arr.append(roc_auc)\n",
        "        return result_arr\n",
        "        \n",
        "    def confusion_matrix(self, y_pred_class):\n",
        "        confusion_matrix = metrics.confusion_matrix(self.y_test, y_pred_class)\n",
        "        self.plot_confusion_matrix(confusion_matrix,[0,1])\n",
        "        \n",
        "    def plot_confusion_matrix(self, plot_data, labels):\n",
        "        sns.set(color_codes=True)\n",
        "        plt.title(\"Confusion Matrix\")\n",
        "        ax = sns.heatmap(plot_data/np.sum(plot_data), annot=True, cmap=\"PiYG\")\n",
        "        ax.set_xticklabels(labels)\n",
        "        ax.set_yticklabels(labels)\n",
        "        ax.set(ylabel=\"Actual Values\", xlabel=\"Predicted Values\")\n",
        "        plt.show()\n",
        "        \n",
        "    def classification_report(self, y_pred_class):\n",
        "        print(metrics.classification_report(self.y_test, y_pred_class))"
      ],
      "metadata": {
        "id": "BdDISuQNDFcr"
      },
      "execution_count": null,
      "outputs": []
    },
    {
      "cell_type": "code",
      "source": [
        "# Logistic Regression"
      ],
      "metadata": {
        "id": "SJS1Tn7aKWJv"
      },
      "execution_count": null,
      "outputs": []
    },
    {
      "cell_type": "code",
      "source": [
        "# Build the Logistic Regression model.\n",
        "%time\n",
        "logistic_regression_model = LogisticRegression(random_state=42, max_iter=100,solver='liblinear', class_weight=\"balanced\")\n",
        "logistic_regression_model_builder = ModelBuilder(logistic_regression_model, X_train, X_test, y_train, y_test)\n",
        "\n",
        "# Train and Predict the Test Labels\n",
        "y_pred_class  = logistic_regression_model_builder.train_model()\n",
        "logistic_regression_metrics = logistic_regression_model_builder.evaluate_model(y_pred_class)"
      ],
      "metadata": {
        "id": "KvKozfW-KZbX"
      },
      "execution_count": null,
      "outputs": []
    },
    {
      "cell_type": "code",
      "source": [
        "# Multinomial Naive Bayes"
      ],
      "metadata": {
        "id": "6jINWMGdKish"
      },
      "execution_count": null,
      "outputs": []
    },
    {
      "cell_type": "code",
      "source": [
        "# training the NB model and making predictions\n",
        "multinomial_naive_bayes = MultinomialNB(alpha=1.0)\n",
        "multinomial_naive_bayes_modebuilder = ModelBuilder(multinomial_naive_bayes, X_train, X_test, y_train, y_test)\n",
        "\n",
        "# Train and Predict the Test Labels\n",
        "y_pred_class  = multinomial_naive_bayes_modebuilder.train_model()\n",
        "multinomial_naive_bayes_metrics = multinomial_naive_bayes_modebuilder.evaluate_model(y_pred_class)"
      ],
      "metadata": {
        "id": "Rd_7yY1wLaeO"
      },
      "execution_count": null,
      "outputs": []
    },
    {
      "cell_type": "code",
      "source": [
        "# Decision Tree"
      ],
      "metadata": {
        "id": "4HypgDAqpA7_"
      },
      "execution_count": null,
      "outputs": []
    },
    {
      "cell_type": "code",
      "source": [
        "# Decision Tree\n",
        "decision_tree = DecisionTreeClassifier(random_state=42, criterion=\"gini\", max_depth=10)\n",
        "decision_tree_modelbuilder = ModelBuilder(decision_tree, X_train, X_test, y_train, y_test)\n",
        "y_pred_class  = decision_tree_modelbuilder.train_model()\n",
        "decision_tree_metrics_cv = decision_tree_modelbuilder.evaluate_model(y_pred_class)"
      ],
      "metadata": {
        "id": "G3uy9MyMLewb"
      },
      "execution_count": null,
      "outputs": []
    },
    {
      "cell_type": "code",
      "source": [
        "# Random Forrest"
      ],
      "metadata": {
        "id": "KqrImqtoLmJa"
      },
      "execution_count": null,
      "outputs": []
    },
    {
      "cell_type": "code",
      "source": [
        "# Random Forrest\n",
        "random_forest = RandomForestClassifier(oob_score=True, random_state=52, criterion=\"gini\")\n",
        "params = {\n",
        "    'max_depth': [2,4,6,8,10],\n",
        "    'min_samples_leaf': [5,10,15,20,25,50],\n",
        "    'n_estimators': [10, 17, 25, 50, 100]\n",
        "}\n",
        "grid_search = GridSearchCV(estimator=random_forest,param_grid=params,cv = 4,n_jobs=-1, verbose=1, scoring=\"f1\")\n",
        "%time\n",
        "grid_search.fit(X_train, y_train)\n",
        "random_forest_best = grid_search.best_estimator_\n",
        "random_forest_modebuilder = ModelBuilder(random_forest_best, X_train, X_test, y_train, y_test)\n",
        "\n",
        "# Train and Predict the Test Labels\n",
        "y_pred_class  = random_forest_modebuilder.train_model()\n",
        "random_forest_metrics = random_forest_modebuilder.evaluate_model(y_pred_class)"
      ],
      "metadata": {
        "id": "Je7rGI_rLoLr"
      },
      "execution_count": null,
      "outputs": []
    },
    {
      "cell_type": "code",
      "source": [
        "# XGBoost Classifier"
      ],
      "metadata": {
        "id": "1L-z099WpYdX"
      },
      "execution_count": null,
      "outputs": []
    },
    {
      "cell_type": "code",
      "source": [
        "# XGBoost Classifier\n",
        "xg_boost = xgb.XGBClassifier(learning_rate=0.15, max_depth=10, random_state=42) #based on the tuned parameters\n",
        "xg_boost_modebuilder = ModelBuilder(xg_boost, X_train, X_test, y_train, y_test)\n",
        "# Train and Predict the Test Labels\n",
        "y_pred_class  = xg_boost_modebuilder.train_model()\n",
        "xg_boost_metrics = xg_boost_modebuilder.evaluate_model(y_pred_class)"
      ],
      "metadata": {
        "id": "xIA1C7znLwJN"
      },
      "execution_count": null,
      "outputs": []
    },
    {
      "cell_type": "code",
      "source": [
        "# Creating a table which contains all the metrics\n",
        "metrics_table = {\n",
        "    'Metric': ['Accuracy','Precision','Recall','F1Score','Auc Score'],\n",
        "    'Logistic Regression': logistic_regression_metrics,\n",
        "    'Naive Bayes': multinomial_naive_bayes_metrics,\n",
        "    'Decision Tree': decision_tree_metrics_cv,\n",
        "    'Random Forrest': random_forest_metrics,\n",
        "    'XG Boost': xg_boost_metrics}\n",
        "data_metrics = pd.DataFrame(metrics_table ,columns = ['Metric', 'Logistic Regression', 'Naive Bayes','Decision Tree','Random Forrest','XG Boost'] )\n",
        "data_metrics"
      ],
      "metadata": {
        "id": "BWr24r1RL6yF"
      },
      "execution_count": null,
      "outputs": []
    },
    {
      "cell_type": "code",
      "source": [
        "# creating a function to save the models\n",
        "def save_object(obj, filename):\n",
        "    filename = \"pickle\\\\\"+filename+'.pkl'\n",
        "    pickle.dump(obj, open(filename, 'wb'))"
      ],
      "metadata": {
        "id": "YkyEFJ9lL-4J"
      },
      "execution_count": null,
      "outputs": []
    },
    {
      "cell_type": "code",
      "source": [
        "# Since XGBoost has performed well compared to all the other models. Hence we will use XGBoost model for our future predictions"
      ],
      "metadata": {
        "id": "MN9gQGQLqJ28"
      },
      "execution_count": null,
      "outputs": []
    },
    {
      "cell_type": "code",
      "source": [
        "#  Saving the models\n",
        "save_object(xg_boost, 'sentiment_classification_xg_boost_model')\n",
        "\n",
        "# Using tf-idf vectorizer for understanding importance of various words in a given context\n",
        "save_object(tfidf_model, 'tfidf_vectorizer')\n",
        "\n",
        "# Saving the cleaned corpus of text\n",
        "save_object(clean_data, 'cleaned_data')"
      ],
      "metadata": {
        "id": "9GfwXhC5MDYx"
      },
      "execution_count": null,
      "outputs": []
    },
    {
      "cell_type": "code",
      "source": [
        "# Creating a seperate dataframe for recommendation system\n",
        "\n",
        "data_recommendation = data[[\"id\", \"name\", \"reviews_rating\", \"reviews_username\"]]\n",
        "data_recommendation.isnull().sum()"
      ],
      "metadata": {
        "id": "XcEN-q8nhtby"
      },
      "execution_count": null,
      "outputs": []
    },
    {
      "cell_type": "code",
      "source": [
        "#splitting the data into train and test\n",
        "train, test = train_test_split(data_recommendation, test_size=0.25, random_state=52)"
      ],
      "metadata": {
        "id": "oVd5aUWuht49"
      },
      "execution_count": null,
      "outputs": []
    },
    {
      "cell_type": "code",
      "source": [
        "# Checking if the data has split perfectly\n",
        "print(\"Train : \",train.shape,\"Test\",test.shape,sep=\"\\n\")"
      ],
      "metadata": {
        "id": "yHTIpRFAh7hM"
      },
      "execution_count": null,
      "outputs": []
    },
    {
      "cell_type": "code",
      "source": [
        "def create_pivot(dataset,index,columns,values,fillna):\n",
        "  pivot_format = pd.pivot_table(dataset,\n",
        "    index=index,\n",
        "    columns=columns,\n",
        "    values=values\n",
        "  )\n",
        "  if fillna == -1 :\n",
        "    return pivot_format\n",
        "  else:\n",
        "    return pivot_format.fillna(fillna)\n",
        "\n",
        "def mark_all_rated_rows_as_one(index,dummy_dataset):\n",
        "  return dummy_dataset[index].apply(lambda value: 0 if value>=1 else 1)\n",
        "\n",
        "def final_rating(predicted_values,dummy_dataset):\n",
        "    return np.multiply(predicted_values,dummy_dataset)"
      ],
      "metadata": {
        "id": "0hZiK9hqW2NT"
      },
      "execution_count": null,
      "outputs": []
    },
    {
      "cell_type": "code",
      "source": [
        "# Creating a pivot table with user name as row index, product id as column index and review rating as cell values\n",
        "data_pivot = create_pivot(train,\"reviews_username\",\"id\",\"reviews_rating\",0)\n",
        "data_pivot.head(10)"
      ],
      "metadata": {
        "id": "U5v031Vsh-kS"
      },
      "execution_count": null,
      "outputs": []
    },
    {
      "cell_type": "code",
      "source": [
        "# Copy the train dataset into dummy_train\n",
        "dummy_train = train.copy()\n",
        "\n",
        "# Checking the dummy train dataset\n",
        "dummy_train.head()"
      ],
      "metadata": {
        "id": "dlCeM8Bph_sN"
      },
      "execution_count": null,
      "outputs": []
    },
    {
      "cell_type": "code",
      "source": [
        "# Marking all the products not rated by users as 1 in the dummy traub dataset\n",
        "dummy_train[\"reviews_rating\"] = mark_all_rated_rows_as_one(\"reviews_rating\",dummy_train)"
      ],
      "metadata": {
        "id": "wVGZr3tXiCdc"
      },
      "execution_count": null,
      "outputs": []
    },
    {
      "cell_type": "code",
      "source": [
        "# Creating a pivot table with user name as row index, product id as column index and review rating as cell values for the dummy train dataset\n",
        "dummy_train = create_pivot(dummy_train,\"reviews_username\",\"id\",\"reviews_rating\",1)\n",
        "dummy_train.head(10)"
      ],
      "metadata": {
        "id": "AuU7zymGiFJA"
      },
      "execution_count": null,
      "outputs": []
    },
    {
      "cell_type": "code",
      "source": [
        "# Checking the number of unique users present in the dataset\n",
        "data_pivot.index.nunique()"
      ],
      "metadata": {
        "id": "dYkWunWqiGCM"
      },
      "execution_count": null,
      "outputs": []
    },
    {
      "cell_type": "code",
      "source": [
        "#using cosine similarity to compute the distance.\n",
        "correlation_dataset = cosine_similarity(data_pivot)\n",
        "correlation_dataset[np.isnan(correlation_dataset)] = 0\n",
        "print(correlation_dataset)\n",
        "print(correlation_dataset.shape)"
      ],
      "metadata": {
        "id": "ZRBhame5iHbe"
      },
      "execution_count": null,
      "outputs": []
    },
    {
      "cell_type": "code",
      "source": [
        "#filtering out the user_correlation that are negatively correlated\n",
        "correlation_dataset[correlation_dataset<0]=0\n",
        "correlation_dataset"
      ],
      "metadata": {
        "id": "WTdNm21FiJkq"
      },
      "execution_count": null,
      "outputs": []
    },
    {
      "cell_type": "code",
      "source": [
        "# Predict the ratings using dot product of correlation matrix and existing ratings\n",
        "predicted_ratings = np.dot(correlation_dataset, data_pivot)\n",
        "predicted_ratings"
      ],
      "metadata": {
        "id": "Ut2yjhsuiKvb"
      },
      "execution_count": null,
      "outputs": []
    },
    {
      "cell_type": "code",
      "source": [
        "#since we are interested in products that are not rated by the userhence we multiply the predicted rating with dummy train so as to make the pre-rated values zero.\n",
        "final_rating = final_rating(predicted_ratings,dummy_train)\n",
        "final_rating.head()"
      ],
      "metadata": {
        "id": "joacCREXiL0E"
      },
      "execution_count": null,
      "outputs": []
    },
    {
      "cell_type": "code",
      "source": [
        "user_input = \"00sab00\" \n",
        "print(user_input)"
      ],
      "metadata": {
        "id": "zJz_Q_z9iM1r"
      },
      "execution_count": null,
      "outputs": []
    },
    {
      "cell_type": "code",
      "source": [
        "recommendations = final_rating.loc[user_input].sort_values(ascending=False)[0:10]\n",
        "recommendations"
      ],
      "metadata": {
        "id": "WOFvbZUZiN-Z"
      },
      "execution_count": null,
      "outputs": []
    },
    {
      "cell_type": "code",
      "source": [
        "#display the top 10 product id, name and similarity score \n",
        "final_recommendations = pd.DataFrame({'product_id': recommendations.index, 'similarity_score' : recommendations})\n",
        "final_recommendations.reset_index(drop=True)\n",
        "pd.merge(final_recommendations, train, on=\"id\")[[\"id\", \"name\", \"similarity_score\"]].drop_duplicates()"
      ],
      "metadata": {
        "id": "Yn9_aiYviPFS"
      },
      "execution_count": null,
      "outputs": []
    },
    {
      "cell_type": "code",
      "source": [
        "# Find out the common users of test and train dataset.\n",
        "common_users = test[test.reviews_username.isin(train.reviews_username)]\n",
        "common_users.shape"
      ],
      "metadata": {
        "id": "s4SneyooiQg3"
      },
      "execution_count": null,
      "outputs": []
    },
    {
      "cell_type": "code",
      "source": [
        "common_users.head()"
      ],
      "metadata": {
        "id": "0yeHHMmniRqY"
      },
      "execution_count": null,
      "outputs": []
    },
    {
      "cell_type": "code",
      "source": [
        "# convert into the user-product matrix.\n",
        "common_user_based_matrix = pd.pivot_table(common_users,index=\"reviews_username\", columns = \"id\", values = \"reviews_rating\")\n",
        "common_user_based_matrix.head()"
      ],
      "metadata": {
        "id": "3qsXV7qmiSt9"
      },
      "execution_count": null,
      "outputs": []
    },
    {
      "cell_type": "code",
      "source": [
        "# Convert the user_correlation matrix into dataframe.\n",
        "user_correlation_dataset = pd.DataFrame(correlation_dataset)\n",
        "user_correlation_dataset.head()"
      ],
      "metadata": {
        "id": "MLj81IRviT5F"
      },
      "execution_count": null,
      "outputs": []
    },
    {
      "cell_type": "code",
      "source": [
        "user_correlation_dataset[\"reviews_username\"] = data_pivot.index\n",
        "user_correlation_dataset.set_index(\"reviews_username\",inplace=True)\n",
        "user_correlation_dataset.head()"
      ],
      "metadata": {
        "id": "3wiHP9nziVAF"
      },
      "execution_count": null,
      "outputs": []
    },
    {
      "cell_type": "code",
      "source": [
        "list_name = common_users.reviews_username.tolist()\n",
        "user_correlation_dataset.columns = data_pivot.index.tolist()\n",
        "user_correlation_dataset_1 =  user_correlation_dataset[user_correlation_dataset.index.isin(list_name)]\n",
        "user_correlation_dataset_1.shape"
      ],
      "metadata": {
        "id": "GWVRA2ISiWAM"
      },
      "execution_count": null,
      "outputs": []
    },
    {
      "cell_type": "code",
      "source": [
        "user_correlation_dataset_2 = user_correlation_dataset_1.T[user_correlation_dataset_1.T.index.isin(list_name)]"
      ],
      "metadata": {
        "id": "1AcCIwq0iYKG"
      },
      "execution_count": null,
      "outputs": []
    },
    {
      "cell_type": "code",
      "source": [
        "user_correlation_dataset_3 = user_correlation_dataset_2.T"
      ],
      "metadata": {
        "id": "ObkUwPtoiZX2"
      },
      "execution_count": null,
      "outputs": []
    },
    {
      "cell_type": "code",
      "source": [
        "user_correlation_dataset_3[user_correlation_dataset_3<0]=0\n",
        "common_user_predicted_ratings = np.dot(user_correlation_dataset_3, common_user_based_matrix.fillna(0))\n",
        "common_user_predicted_ratings"
      ],
      "metadata": {
        "id": "iZpN1wiYiamC"
      },
      "execution_count": null,
      "outputs": []
    },
    {
      "cell_type": "code",
      "source": [
        "dummy_test = common_users.copy()\n",
        "dummy_test[\"reviews_rating\"] = dummy_test[\"reviews_rating\"].apply(lambda x: 1 if x>=1 else 0)\n",
        "dummy_test = pd.pivot_table(dummy_test,index=\"reviews_username\", columns = \"id\", values = \"reviews_rating\").fillna(0)\n",
        "dummy_test.shape"
      ],
      "metadata": {
        "id": "trpdhVlUiboG"
      },
      "execution_count": null,
      "outputs": []
    },
    {
      "cell_type": "code",
      "source": [
        "common_user_based_matrix.head()"
      ],
      "metadata": {
        "id": "KdB0JfQkieHG"
      },
      "execution_count": null,
      "outputs": []
    },
    {
      "cell_type": "code",
      "source": [
        "dummy_test.head()"
      ],
      "metadata": {
        "id": "8CqIjMxpifBp"
      },
      "execution_count": null,
      "outputs": []
    },
    {
      "cell_type": "code",
      "source": [
        "common_user_predicted_ratings = np.multiply(common_user_predicted_ratings,dummy_test)\n",
        "common_user_predicted_ratings.head()"
      ],
      "metadata": {
        "id": "OR_KfT7iihhv"
      },
      "execution_count": null,
      "outputs": []
    },
    {
      "cell_type": "code",
      "source": [
        "#calculate RMSE\n",
        "X  = common_user_predicted_ratings.copy() \n",
        "X = X[X>0]\n",
        "\n",
        "scaler = MinMaxScaler(feature_range=(1, 5))\n",
        "print(scaler.fit(X))\n",
        "y = (scaler.transform(X))\n",
        "\n",
        "print(y)"
      ],
      "metadata": {
        "id": "MZ1_gygQikcP"
      },
      "execution_count": null,
      "outputs": []
    },
    {
      "cell_type": "code",
      "source": [
        "common_ = pd.pivot_table(common_users,index=\"reviews_username\", columns = \"id\", values = \"reviews_rating\")"
      ],
      "metadata": {
        "id": "EbBfzCQhiltM"
      },
      "execution_count": null,
      "outputs": []
    },
    {
      "cell_type": "code",
      "source": [
        "# Finding total non-NaN value\n",
        "total_non_nan = np.count_nonzero(~np.isnan(y))"
      ],
      "metadata": {
        "id": "uC7btz2Eimyc"
      },
      "execution_count": null,
      "outputs": []
    },
    {
      "cell_type": "code",
      "source": [
        "rmse = (sum(sum((common_ - y )**2))/total_non_nan)**0.5\n",
        "print(rmse)"
      ],
      "metadata": {
        "id": "dmV1RdwvinnB"
      },
      "execution_count": null,
      "outputs": []
    },
    {
      "cell_type": "code",
      "source": [
        "# Item Based Recommendation"
      ],
      "metadata": {
        "id": "1VPtQUTdio6I"
      },
      "execution_count": null,
      "outputs": []
    },
    {
      "cell_type": "code",
      "source": [
        "df_pivot = pd.pivot_table(train,\n",
        "    index=\"id\",\n",
        "    columns=\"reviews_username\",\n",
        "    values=\"reviews_rating\"\n",
        ")\n",
        "\n",
        "df_pivot.head()"
      ],
      "metadata": {
        "id": "NCubuEBXiwCb"
      },
      "execution_count": null,
      "outputs": []
    },
    {
      "cell_type": "code",
      "source": [
        "mean = np.nanmean(df_pivot, axis=1)\n",
        "df_subtracted = (df_pivot.T-mean).T"
      ],
      "metadata": {
        "id": "wht4naRwiyCP"
      },
      "execution_count": null,
      "outputs": []
    },
    {
      "cell_type": "code",
      "source": [
        "df_subtracted.head()"
      ],
      "metadata": {
        "id": "cBe5JEyNizMZ"
      },
      "execution_count": null,
      "outputs": []
    },
    {
      "cell_type": "code",
      "source": [
        "# Item Similarity Matrix\n",
        "item_correlation = 1 - pairwise_distances(df_subtracted.fillna(0), metric='cosine')\n",
        "item_correlation[np.isnan(item_correlation)] = 0\n",
        "print(item_correlation)"
      ],
      "metadata": {
        "id": "dOYaVfcqi0CS"
      },
      "execution_count": null,
      "outputs": []
    },
    {
      "cell_type": "code",
      "source": [
        "item_correlation[item_correlation<0]=0\n",
        "item_correlation"
      ],
      "metadata": {
        "id": "WnTA5Ntci1C2"
      },
      "execution_count": null,
      "outputs": []
    },
    {
      "cell_type": "code",
      "source": [
        "item_predicted_ratings = np.dot((df_pivot.fillna(0).T),item_correlation)\n",
        "item_predicted_ratings"
      ],
      "metadata": {
        "id": "TyGfpexDi1_4"
      },
      "execution_count": null,
      "outputs": []
    },
    {
      "cell_type": "code",
      "source": [
        "item_final_rating = np.multiply(item_predicted_ratings,dummy_train)\n",
        "item_final_rating.head()"
      ],
      "metadata": {
        "id": "7g3gkb93i25M"
      },
      "execution_count": null,
      "outputs": []
    },
    {
      "cell_type": "code",
      "source": [
        "# Take the user ID as input\n",
        "user_input = '00sab00'\n",
        "print(user_input)"
      ],
      "metadata": {
        "id": "08wUWxIOi37C"
      },
      "execution_count": null,
      "outputs": []
    },
    {
      "cell_type": "code",
      "source": [
        "# Recommending the Top 20 products to the user.\n",
        "item_recommendations = item_final_rating.loc[user_input].sort_values(ascending=False)[0:20]\n",
        "item_recommendations"
      ],
      "metadata": {
        "id": "ybISHoFmi5LS"
      },
      "execution_count": null,
      "outputs": []
    },
    {
      "cell_type": "code",
      "source": [
        "item_final_recommendations = pd.DataFrame({'product_id': item_recommendations.index, 'similarity_score' : item_recommendations})\n",
        "item_final_recommendations.reset_index(drop=True)\n",
        "#final_recommendations.drop(['id'], axis=1)\n",
        "pd.merge(item_final_recommendations, train, on=\"id\")[[\"id\", \"name\", \"similarity_score\"]].drop_duplicates()"
      ],
      "metadata": {
        "id": "OCBPERtni6TC"
      },
      "execution_count": null,
      "outputs": []
    },
    {
      "cell_type": "code",
      "source": [
        "common =  test[test.id.isin(train.id)]\n",
        "common.shape"
      ],
      "metadata": {
        "id": "-KsMzsJji7k5"
      },
      "execution_count": null,
      "outputs": []
    },
    {
      "cell_type": "code",
      "source": [
        "common.head(4)"
      ],
      "metadata": {
        "id": "yemgHJdoi814"
      },
      "execution_count": null,
      "outputs": []
    },
    {
      "cell_type": "code",
      "source": [
        "common_item_based_matrix = common.pivot_table(index=\"id\", columns=\"reviews_username\", values=\"reviews_rating\")\n",
        "print(common_item_based_matrix.shape)\n"
      ],
      "metadata": {
        "id": "UIB7Mymxi9s8"
      },
      "execution_count": null,
      "outputs": []
    },
    {
      "cell_type": "code",
      "source": [
        "item_correlation_df = pd.DataFrame(item_correlation)\n",
        "item_correlation_df.head(1)"
      ],
      "metadata": {
        "id": "DocHzSIUi-77"
      },
      "execution_count": null,
      "outputs": []
    },
    {
      "cell_type": "code",
      "source": [
        "item_correlation_df[\"id\"] = df_subtracted.index\n",
        "item_correlation_df.set_index(\"id\",inplace=True)\n",
        "item_correlation_df.head()"
      ],
      "metadata": {
        "id": "M8s-_Iwgi_-t"
      },
      "execution_count": null,
      "outputs": []
    },
    {
      "cell_type": "code",
      "source": [
        "list_name = common.id.tolist()"
      ],
      "metadata": {
        "id": "Q-VyAItVjBAs"
      },
      "execution_count": null,
      "outputs": []
    },
    {
      "cell_type": "code",
      "source": [
        "item_correlation_df.columns = df_subtracted.index.tolist()\n",
        "\n",
        "item_correlation_df_1 =  item_correlation_df[item_correlation_df.index.isin(list_name)]"
      ],
      "metadata": {
        "id": "L5dkt6BqjCDy"
      },
      "execution_count": null,
      "outputs": []
    },
    {
      "cell_type": "code",
      "source": [
        "item_correlation_df_2 = item_correlation_df_1.T[item_correlation_df_1.T.index.isin(list_name)]\n",
        "\n",
        "item_correlation_df_3 = item_correlation_df_2.T\n",
        "df_subtracted"
      ],
      "metadata": {
        "id": "SzHTYMbLjDDB"
      },
      "execution_count": null,
      "outputs": []
    },
    {
      "cell_type": "code",
      "source": [
        "item_correlation_df_3[item_correlation_df_3 < 0]=0\n",
        "common =  test[test.id.isin(train.id)]\n",
        "common_item_based_matrix = common.pivot_table(index=\"id\",columns=\"reviews_username\", values=\"reviews_rating\")\n",
        "\n",
        "# common_item_predicted_ratings = np.dot(item_correlation_df_3, common_item_based_matrix.fillna(0))\n",
        "# common_item_predicted_ratings\n",
        "print(item_correlation_df_3.shape)\n",
        "print(common_item_based_matrix.shape)"
      ],
      "metadata": {
        "id": "Q3z_L1VFjEbd"
      },
      "execution_count": null,
      "outputs": []
    },
    {
      "cell_type": "code",
      "source": [
        "data_item_pivot = pd.pivot_table(train,\n",
        "    index=\"id\",\n",
        "    columns=\"reviews_username\",\n",
        "    values=\"reviews_rating\"\n",
        ")\n",
        "\n",
        "mean = np.nanmean(data_item_pivot, axis=1)\n",
        "df_subtracted = (data_item_pivot.T-mean).T\n",
        "# Item Similarity Matrix\n",
        "item_correlation = 1 - pairwise_distances(df_subtracted.fillna(0), metric='cosine')\n",
        "item_correlation[np.isnan(item_correlation)] = 0\n",
        "item_correlation[item_correlation<0]=0\n",
        "item_predicted_ratings = np.dot((data_item_pivot.fillna(0).T),item_correlation)\n",
        "item_final_rating = np.multiply(item_predicted_ratings,dummy_train)\n",
        "# Take the user ID as input\n",
        "user_input = '00sab00'\n",
        "# Recommending the Top 20 products to the user.\n",
        "item_recommendations = item_final_rating.loc[user_input].sort_values(ascending=False)[0:20]\n",
        "item_recommendations\n",
        "item_final_recommendations = pd.DataFrame({'product_id': item_recommendations.index, 'similarity_score' : item_recommendations})\n",
        "item_final_recommendations.reset_index(drop=True)\n",
        "pd.merge(item_final_recommendations, train, on=\"id\")[[\"id\", \"name\", \"similarity_score\"]]# .drop_duplicates()\n",
        "\n",
        "# Find out the common users of test and train dataset.\n",
        "common =  test[test.id.isin(train.id)]\n",
        "common_item_based_matrix = common.pivot_table(index=\"id\",columns=\"reviews_username\",values=\"reviews_rating\")\n",
        "item_correlation_df = pd.DataFrame(item_correlation)\n",
        "item_correlation_df[\"id\"] = df_subtracted.index\n",
        "item_correlation_df.set_index(\"id\",inplace=True)\n",
        "list_name = common.id.tolist()\n",
        "item_correlation_df.columns = df_subtracted.index.tolist()\n",
        "item_correlation_df_1 =  item_correlation_df[item_correlation_df.index.isin(list_name)]\n",
        "item_correlation_df_2 = item_correlation_df_1.T[item_correlation_df_1.T.index.isin(list_name)]\n",
        "item_correlation_df_3 = item_correlation_df_2.T\n",
        "item_correlation_df_3[item_correlation_df_3<0]=0"
      ],
      "metadata": {
        "id": "2yS3ltwAtYL9"
      },
      "execution_count": null,
      "outputs": []
    },
    {
      "cell_type": "code",
      "source": [
        "# saving the correlation matrix of user based recommender \n",
        "save_object(final_rating, \"user_final_rating\")"
      ],
      "metadata": {
        "id": "chJ4GVNGjK1u"
      },
      "execution_count": null,
      "outputs": []
    },
    {
      "cell_type": "code",
      "source": [
        "def get_sentiment_recommendations(user):\n",
        "    if (user in final_rating.index):\n",
        "        # get the product recommedation using the trained ML model\n",
        "        recommendations = list(final_rating.loc[user].sort_values(ascending=False)[0:20].index)\n",
        "        temp = clean_data[clean_data.id.isin(recommendations)]\n",
        "        #temp[\"reviews_text_cleaned\"] = temp[\"reviews_text\"].apply(lambda x: self.preprocess_text(x))\n",
        "        #transfor the input data using saved tf-idf vectorizer\n",
        "        X =  tfidf_model.transform(temp[\"reviews_cleaned_text\"].values.astype(str))\n",
        "        temp[\"predicted_sentiment\"]= xg_boost.predict(X)\n",
        "        temp = temp[['name','predicted_sentiment']]\n",
        "        temp_grouped = temp.groupby('name', as_index=False).count()\n",
        "        temp_grouped[\"pos_review_count\"] = temp_grouped.name.apply(lambda x: temp[(temp.name==x) & (temp.predicted_sentiment==1)][\"predicted_sentiment\"].count())\n",
        "        temp_grouped[\"total_review_count\"] = temp_grouped['predicted_sentiment']\n",
        "        temp_grouped['pos_sentiment_percent'] = np.round(temp_grouped[\"pos_review_count\"]/temp_grouped[\"total_review_count\"]*100,2)\n",
        "        return temp_grouped.sort_values('pos_sentiment_percent', ascending=False)\n",
        "    else:\n",
        "        print(f\"User name {user} doesn't exist\")"
      ],
      "metadata": {
        "id": "Wn-RP8lUjMdf"
      },
      "execution_count": null,
      "outputs": []
    },
    {
      "cell_type": "code",
      "source": [
        "#testing the above fuction using one of the users that's trained on.\n",
        "get_sentiment_recommendations(\"00sab00\")"
      ],
      "metadata": {
        "id": "2l2cXT6gjRPG"
      },
      "execution_count": null,
      "outputs": []
    },
    {
      "cell_type": "code",
      "source": [
        "#get the top 20\n",
        "get_sentiment_recommendations(\"00sab00\")[:20]"
      ],
      "metadata": {
        "id": "K9N8p8GqjS1O"
      },
      "execution_count": null,
      "outputs": []
    },
    {
      "cell_type": "code",
      "source": [
        "#testing the above fuction on the user that doesn't exists or a new user\n",
        "get_sentiment_recommendations(\"test123\")"
      ],
      "metadata": {
        "id": "EMFTgsp5ji1S"
      },
      "execution_count": null,
      "outputs": []
    },
    {
      "cell_type": "code",
      "source": [
        "X_sample = tfidf_model.transform([\"Awesome product, will recommend\"])\n",
        "y_pred_sample = xg_boost.predict(X_sample)\n",
        "y_pred_sample"
      ],
      "metadata": {
        "id": "jtzJam68jkF-"
      },
      "execution_count": null,
      "outputs": []
    },
    {
      "cell_type": "code",
      "source": [
        "X_sample = tfidf_model.transform([\"worst product, quality is poor\"])\n",
        "y_pred_sample = xg_boost.predict(X_sample)\n",
        "y_pred_sample"
      ],
      "metadata": {
        "id": "gpsaA32ijlA5"
      },
      "execution_count": null,
      "outputs": []
    }
  ]
}